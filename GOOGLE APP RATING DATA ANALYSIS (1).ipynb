{
 "cells": [
  {
   "cell_type": "markdown",
   "id": "f4c1b15f",
   "metadata": {},
   "source": [
    "## Importing Libraries"
   ]
  },
  {
   "cell_type": "code",
   "execution_count": 3,
   "id": "44a96ff8",
   "metadata": {},
   "outputs": [],
   "source": [
    "import pandas as pd\n",
    "import numpy as np\n",
    "import seaborn as sns\n",
    "import matplotlib.pyplot as plt\n",
    "%matplotlib inline"
   ]
  },
  {
   "cell_type": "code",
   "execution_count": 5,
   "id": "70f43897",
   "metadata": {},
   "outputs": [],
   "source": [
    "df=pd.read_csv(r\"C:\\Users\\Hp\\Downloads\\googleplaystore.csv - googleplaystore.csv.csv\")#Reading the data"
   ]
  },
  {
   "cell_type": "code",
   "execution_count": 6,
   "id": "629c1b19",
   "metadata": {},
   "outputs": [
    {
     "data": {
      "text/html": [
       "<div>\n",
       "<style scoped>\n",
       "    .dataframe tbody tr th:only-of-type {\n",
       "        vertical-align: middle;\n",
       "    }\n",
       "\n",
       "    .dataframe tbody tr th {\n",
       "        vertical-align: top;\n",
       "    }\n",
       "\n",
       "    .dataframe thead th {\n",
       "        text-align: right;\n",
       "    }\n",
       "</style>\n",
       "<table border=\"1\" class=\"dataframe\">\n",
       "  <thead>\n",
       "    <tr style=\"text-align: right;\">\n",
       "      <th></th>\n",
       "      <th>App</th>\n",
       "      <th>Category</th>\n",
       "      <th>Rating</th>\n",
       "      <th>Reviews</th>\n",
       "      <th>Size</th>\n",
       "      <th>Installs</th>\n",
       "      <th>Type</th>\n",
       "      <th>Price</th>\n",
       "      <th>Content Rating</th>\n",
       "      <th>Genres</th>\n",
       "      <th>Last Updated</th>\n",
       "      <th>Current Ver</th>\n",
       "      <th>Android Ver</th>\n",
       "    </tr>\n",
       "  </thead>\n",
       "  <tbody>\n",
       "    <tr>\n",
       "      <th>0</th>\n",
       "      <td>Photo Editor &amp; Candy Camera &amp; Grid &amp; ScrapBook</td>\n",
       "      <td>ART_AND_DESIGN</td>\n",
       "      <td>4.1</td>\n",
       "      <td>159</td>\n",
       "      <td>19M</td>\n",
       "      <td>10,000+</td>\n",
       "      <td>Free</td>\n",
       "      <td>0</td>\n",
       "      <td>Everyone</td>\n",
       "      <td>Art &amp; Design</td>\n",
       "      <td>January 7, 2018</td>\n",
       "      <td>1.0.0</td>\n",
       "      <td>4.0.3 and up</td>\n",
       "    </tr>\n",
       "    <tr>\n",
       "      <th>1</th>\n",
       "      <td>Coloring book moana</td>\n",
       "      <td>ART_AND_DESIGN</td>\n",
       "      <td>3.9</td>\n",
       "      <td>967</td>\n",
       "      <td>14M</td>\n",
       "      <td>500,000+</td>\n",
       "      <td>Free</td>\n",
       "      <td>0</td>\n",
       "      <td>Everyone</td>\n",
       "      <td>Art &amp; Design;Pretend Play</td>\n",
       "      <td>January 15, 2018</td>\n",
       "      <td>2.0.0</td>\n",
       "      <td>4.0.3 and up</td>\n",
       "    </tr>\n",
       "    <tr>\n",
       "      <th>2</th>\n",
       "      <td>U Launcher Lite – FREE Live Cool Themes, Hide ...</td>\n",
       "      <td>ART_AND_DESIGN</td>\n",
       "      <td>4.7</td>\n",
       "      <td>87510</td>\n",
       "      <td>8.7M</td>\n",
       "      <td>5,000,000+</td>\n",
       "      <td>Free</td>\n",
       "      <td>0</td>\n",
       "      <td>Everyone</td>\n",
       "      <td>Art &amp; Design</td>\n",
       "      <td>August 1, 2018</td>\n",
       "      <td>1.2.4</td>\n",
       "      <td>4.0.3 and up</td>\n",
       "    </tr>\n",
       "    <tr>\n",
       "      <th>3</th>\n",
       "      <td>Sketch - Draw &amp; Paint</td>\n",
       "      <td>ART_AND_DESIGN</td>\n",
       "      <td>4.5</td>\n",
       "      <td>215644</td>\n",
       "      <td>25M</td>\n",
       "      <td>50,000,000+</td>\n",
       "      <td>Free</td>\n",
       "      <td>0</td>\n",
       "      <td>Teen</td>\n",
       "      <td>Art &amp; Design</td>\n",
       "      <td>June 8, 2018</td>\n",
       "      <td>Varies with device</td>\n",
       "      <td>4.2 and up</td>\n",
       "    </tr>\n",
       "    <tr>\n",
       "      <th>4</th>\n",
       "      <td>Pixel Draw - Number Art Coloring Book</td>\n",
       "      <td>ART_AND_DESIGN</td>\n",
       "      <td>4.3</td>\n",
       "      <td>967</td>\n",
       "      <td>2.8M</td>\n",
       "      <td>100,000+</td>\n",
       "      <td>Free</td>\n",
       "      <td>0</td>\n",
       "      <td>Everyone</td>\n",
       "      <td>Art &amp; Design;Creativity</td>\n",
       "      <td>June 20, 2018</td>\n",
       "      <td>1.1</td>\n",
       "      <td>4.4 and up</td>\n",
       "    </tr>\n",
       "  </tbody>\n",
       "</table>\n",
       "</div>"
      ],
      "text/plain": [
       "                                                 App        Category  Rating  \\\n",
       "0     Photo Editor & Candy Camera & Grid & ScrapBook  ART_AND_DESIGN     4.1   \n",
       "1                                Coloring book moana  ART_AND_DESIGN     3.9   \n",
       "2  U Launcher Lite – FREE Live Cool Themes, Hide ...  ART_AND_DESIGN     4.7   \n",
       "3                              Sketch - Draw & Paint  ART_AND_DESIGN     4.5   \n",
       "4              Pixel Draw - Number Art Coloring Book  ART_AND_DESIGN     4.3   \n",
       "\n",
       "  Reviews  Size     Installs  Type Price Content Rating  \\\n",
       "0     159   19M      10,000+  Free     0       Everyone   \n",
       "1     967   14M     500,000+  Free     0       Everyone   \n",
       "2   87510  8.7M   5,000,000+  Free     0       Everyone   \n",
       "3  215644   25M  50,000,000+  Free     0           Teen   \n",
       "4     967  2.8M     100,000+  Free     0       Everyone   \n",
       "\n",
       "                      Genres      Last Updated         Current Ver  \\\n",
       "0               Art & Design   January 7, 2018               1.0.0   \n",
       "1  Art & Design;Pretend Play  January 15, 2018               2.0.0   \n",
       "2               Art & Design    August 1, 2018               1.2.4   \n",
       "3               Art & Design      June 8, 2018  Varies with device   \n",
       "4    Art & Design;Creativity     June 20, 2018                 1.1   \n",
       "\n",
       "    Android Ver  \n",
       "0  4.0.3 and up  \n",
       "1  4.0.3 and up  \n",
       "2  4.0.3 and up  \n",
       "3    4.2 and up  \n",
       "4    4.4 and up  "
      ]
     },
     "execution_count": 6,
     "metadata": {},
     "output_type": "execute_result"
    }
   ],
   "source": [
    "df.head()#Printing the head"
   ]
  },
  {
   "cell_type": "code",
   "execution_count": 7,
   "id": "bf0605eb",
   "metadata": {},
   "outputs": [
    {
     "data": {
      "text/plain": [
       "(10841, 13)"
      ]
     },
     "execution_count": 7,
     "metadata": {},
     "output_type": "execute_result"
    }
   ],
   "source": [
    "df.shape"
   ]
  },
  {
   "cell_type": "code",
   "execution_count": 8,
   "id": "c848967a",
   "metadata": {},
   "outputs": [
    {
     "data": {
      "text/html": [
       "<div>\n",
       "<style scoped>\n",
       "    .dataframe tbody tr th:only-of-type {\n",
       "        vertical-align: middle;\n",
       "    }\n",
       "\n",
       "    .dataframe tbody tr th {\n",
       "        vertical-align: top;\n",
       "    }\n",
       "\n",
       "    .dataframe thead th {\n",
       "        text-align: right;\n",
       "    }\n",
       "</style>\n",
       "<table border=\"1\" class=\"dataframe\">\n",
       "  <thead>\n",
       "    <tr style=\"text-align: right;\">\n",
       "      <th></th>\n",
       "      <th>Rating</th>\n",
       "    </tr>\n",
       "  </thead>\n",
       "  <tbody>\n",
       "    <tr>\n",
       "      <th>count</th>\n",
       "      <td>9367.000000</td>\n",
       "    </tr>\n",
       "    <tr>\n",
       "      <th>mean</th>\n",
       "      <td>4.193338</td>\n",
       "    </tr>\n",
       "    <tr>\n",
       "      <th>std</th>\n",
       "      <td>0.537431</td>\n",
       "    </tr>\n",
       "    <tr>\n",
       "      <th>min</th>\n",
       "      <td>1.000000</td>\n",
       "    </tr>\n",
       "    <tr>\n",
       "      <th>25%</th>\n",
       "      <td>4.000000</td>\n",
       "    </tr>\n",
       "    <tr>\n",
       "      <th>50%</th>\n",
       "      <td>4.300000</td>\n",
       "    </tr>\n",
       "    <tr>\n",
       "      <th>75%</th>\n",
       "      <td>4.500000</td>\n",
       "    </tr>\n",
       "    <tr>\n",
       "      <th>max</th>\n",
       "      <td>19.000000</td>\n",
       "    </tr>\n",
       "  </tbody>\n",
       "</table>\n",
       "</div>"
      ],
      "text/plain": [
       "            Rating\n",
       "count  9367.000000\n",
       "mean      4.193338\n",
       "std       0.537431\n",
       "min       1.000000\n",
       "25%       4.000000\n",
       "50%       4.300000\n",
       "75%       4.500000\n",
       "max      19.000000"
      ]
     },
     "execution_count": 8,
     "metadata": {},
     "output_type": "execute_result"
    }
   ],
   "source": [
    "df.describe()"
   ]
  },
  {
   "cell_type": "code",
   "execution_count": 9,
   "id": "cd152bda",
   "metadata": {},
   "outputs": [
    {
     "data": {
      "text/plain": [
       "<AxesSubplot:>"
      ]
     },
     "execution_count": 9,
     "metadata": {},
     "output_type": "execute_result"
    },
    {
     "data": {
      "image/png": "[encoded data removed]",
      "text/plain": [
       "<Figure size 432x288 with 1 Axes>"
      ]
     },
     "metadata": {
      "needs_background": "light"
     },
     "output_type": "display_data"
    }
   ],
   "source": [
    "df.boxplot() # Boxplot shows value >5,i.e. not possible"
   ]
  },
  {
   "cell_type": "code",
   "execution_count": 10,
   "id": "be78644e",
   "metadata": {},
   "outputs": [
    {
     "data": {
      "text/plain": [
       "array([[<AxesSubplot:title={'center':'Rating'}>]], dtype=object)"
      ]
     },
     "execution_count": 10,
     "metadata": {},
     "output_type": "execute_result"
    },
    {
     "data": {
      "image/png": "[encoded data removed]",
      "text/plain": [
       "<Figure size 432x288 with 1 Axes>"
      ]
     },
     "metadata": {
      "needs_background": "light"
     },
     "output_type": "display_data"
    }
   ],
   "source": [
    "df.hist()"
   ]
  },
  {
   "cell_type": "code",
   "execution_count": 11,
   "id": "013b6384",
   "metadata": {},
   "outputs": [
    {
     "name": "stdout",
     "output_type": "stream",
     "text": [
      "<class 'pandas.core.frame.DataFrame'>\n",
      "RangeIndex: 10841 entries, 0 to 10840\n",
      "Data columns (total 13 columns):\n",
      " #   Column          Non-Null Count  Dtype  \n",
      "---  ------          --------------  -----  \n",
      " 0   App             10841 non-null  object \n",
      " 1   Category        10841 non-null  object \n",
      " 2   Rating          9367 non-null   float64\n",
      " 3   Reviews         10841 non-null  object \n",
      " 4   Size            10841 non-null  object \n",
      " 5   Installs        10841 non-null  object \n",
      " 6   Type            10840 non-null  object \n",
      " 7   Price           10841 non-null  object \n",
      " 8   Content Rating  10840 non-null  object \n",
      " 9   Genres          10841 non-null  object \n",
      " 10  Last Updated    10841 non-null  object \n",
      " 11  Current Ver     10833 non-null  object \n",
      " 12  Android Ver     10838 non-null  object \n",
      "dtypes: float64(1), object(12)\n",
      "memory usage: 1.1+ MB\n"
     ]
    }
   ],
   "source": [
    "df.info()"
   ]
  },
  {
   "cell_type": "markdown",
   "id": "c2ffd039",
   "metadata": {},
   "source": [
    "## Data Cleaning"
   ]
  },
  {
   "cell_type": "code",
   "execution_count": 12,
   "id": "8498f7f4",
   "metadata": {},
   "outputs": [
    {
     "data": {
      "text/plain": [
       "App                  0\n",
       "Category             0\n",
       "Rating            1474\n",
       "Reviews              0\n",
       "Size                 0\n",
       "Installs             0\n",
       "Type                 1\n",
       "Price                0\n",
       "Content Rating       1\n",
       "Genres               0\n",
       "Last Updated         0\n",
       "Current Ver          8\n",
       "Android Ver          3\n",
       "dtype: int64"
      ]
     },
     "execution_count": 12,
     "metadata": {},
     "output_type": "execute_result"
    }
   ],
   "source": [
    "df.isnull().sum()"
   ]
  },
  {
   "cell_type": "code",
   "execution_count": 13,
   "id": "24e2d7dc",
   "metadata": {},
   "outputs": [
    {
     "data": {
      "text/html": [
       "<div>\n",
       "<style scoped>\n",
       "    .dataframe tbody tr th:only-of-type {\n",
       "        vertical-align: middle;\n",
       "    }\n",
       "\n",
       "    .dataframe tbody tr th {\n",
       "        vertical-align: top;\n",
       "    }\n",
       "\n",
       "    .dataframe thead th {\n",
       "        text-align: right;\n",
       "    }\n",
       "</style>\n",
       "<table border=\"1\" class=\"dataframe\">\n",
       "  <thead>\n",
       "    <tr style=\"text-align: right;\">\n",
       "      <th></th>\n",
       "      <th>App</th>\n",
       "      <th>Category</th>\n",
       "      <th>Rating</th>\n",
       "      <th>Reviews</th>\n",
       "      <th>Size</th>\n",
       "      <th>Installs</th>\n",
       "      <th>Type</th>\n",
       "      <th>Price</th>\n",
       "      <th>Content Rating</th>\n",
       "      <th>Genres</th>\n",
       "      <th>Last Updated</th>\n",
       "      <th>Current Ver</th>\n",
       "      <th>Android Ver</th>\n",
       "    </tr>\n",
       "  </thead>\n",
       "  <tbody>\n",
       "    <tr>\n",
       "      <th>10472</th>\n",
       "      <td>Life Made WI-Fi Touchscreen Photo Frame</td>\n",
       "      <td>1.9</td>\n",
       "      <td>19.0</td>\n",
       "      <td>3.0M</td>\n",
       "      <td>1,000+</td>\n",
       "      <td>Free</td>\n",
       "      <td>0</td>\n",
       "      <td>Everyone</td>\n",
       "      <td>NaN</td>\n",
       "      <td>February 11, 2018</td>\n",
       "      <td>1.0.19</td>\n",
       "      <td>4.0 and up</td>\n",
       "      <td>NaN</td>\n",
       "    </tr>\n",
       "  </tbody>\n",
       "</table>\n",
       "</div>"
      ],
      "text/plain": [
       "                                           App Category  Rating Reviews  \\\n",
       "10472  Life Made WI-Fi Touchscreen Photo Frame      1.9    19.0    3.0M   \n",
       "\n",
       "         Size Installs Type     Price Content Rating             Genres  \\\n",
       "10472  1,000+     Free    0  Everyone            NaN  February 11, 2018   \n",
       "\n",
       "      Last Updated Current Ver Android Ver  \n",
       "10472       1.0.19  4.0 and up         NaN  "
      ]
     },
     "execution_count": 13,
     "metadata": {},
     "output_type": "execute_result"
    }
   ],
   "source": [
    "## check how many ratings have more than 5 Rating\n",
    "df[df.Rating>5]"
   ]
  },
  {
   "cell_type": "code",
   "execution_count": 14,
   "id": "33437491",
   "metadata": {},
   "outputs": [],
   "source": [
    "df.drop([10472],inplace=True)#Dropped junk,impractical data"
   ]
  },
  {
   "cell_type": "code",
   "execution_count": 15,
   "id": "3971a3e6",
   "metadata": {},
   "outputs": [
    {
     "data": {
      "text/plain": [
       "<AxesSubplot:>"
      ]
     },
     "execution_count": 15,
     "metadata": {},
     "output_type": "execute_result"
    },
    {
     "data": {
      "image/png": "[encoded data removed]",
      "text/plain": [
       "<Figure size 432x288 with 1 Axes>"
      ]
     },
     "metadata": {
      "needs_background": "light"
     },
     "output_type": "display_data"
    }
   ],
   "source": [
    "df.boxplot() # Correct boxplot"
   ]
  },
  {
   "cell_type": "code",
   "execution_count": 16,
   "id": "b18f516c",
   "metadata": {},
   "outputs": [
    {
     "data": {
      "text/plain": [
       "array([[<AxesSubplot:title={'center':'Rating'}>]], dtype=object)"
      ]
     },
     "execution_count": 16,
     "metadata": {},
     "output_type": "execute_result"
    },
    {
     "data": {
      "image/png": "[encoded data removed]",
      "text/plain": [
       "<Figure size 432x288 with 1 Axes>"
      ]
     },
     "metadata": {
      "needs_background": "light"
     },
     "output_type": "display_data"
    }
   ],
   "source": [
    "df.hist()"
   ]
  },
  {
   "cell_type": "markdown",
   "id": "7ce9a240",
   "metadata": {},
   "source": [
    "## Data Imputation and Manipulation"
   ]
  },
  {
   "cell_type": "code",
   "execution_count": 17,
   "id": "5222b629",
   "metadata": {},
   "outputs": [],
   "source": [
    "## find the null values with appropriate values using aggregate functions such as mean,median ,mode\n",
    "def impute_median(series):\n",
    "    return series.fillna(series.median())"
   ]
  },
  {
   "cell_type": "code",
   "execution_count": 18,
   "id": "74f7a47a",
   "metadata": {},
   "outputs": [
    {
     "data": {
      "text/plain": [
       "App               0\n",
       "Category          0\n",
       "Rating            0\n",
       "Reviews           0\n",
       "Size              0\n",
       "Installs          0\n",
       "Type              1\n",
       "Price             0\n",
       "Content Rating    0\n",
       "Genres            0\n",
       "Last Updated      0\n",
       "Current Ver       8\n",
       "Android Ver       2\n",
       "dtype: int64"
      ]
     },
     "execution_count": 18,
     "metadata": {},
     "output_type": "execute_result"
    }
   ],
   "source": [
    "df.Rating=df['Rating'].transform(impute_median)\n",
    "df.isnull().sum()"
   ]
  },
  {
   "cell_type": "code",
   "execution_count": 19,
   "id": "8f0b9168",
   "metadata": {},
   "outputs": [
    {
     "name": "stdout",
     "output_type": "stream",
     "text": [
      "0    Free\n",
      "dtype: object\n",
      "0    Varies with device\n",
      "dtype: object\n",
      "0    4.1 and up\n",
      "dtype: object\n"
     ]
    }
   ],
   "source": [
    "#modes of categorical values\n",
    "print(df['Type'].mode())\n",
    "print(df['Current Ver'].mode())\n",
    "print(df['Android Ver'].mode())"
   ]
  },
  {
   "cell_type": "code",
   "execution_count": 20,
   "id": "00b81457",
   "metadata": {},
   "outputs": [],
   "source": [
    "# Fill the missing categorical values with mode\n",
    "df['Type'].fillna(str(df['Type'].mode().values[0]),inplace=True)\n",
    "df['Current Ver'].fillna(str(df['Current Ver'].mode().values[0]),inplace=True)\n",
    "df['Android Ver'].fillna(str(df['Android Ver'].mode().values[0]),inplace=True)"
   ]
  },
  {
   "cell_type": "code",
   "execution_count": 21,
   "id": "bd1f853c",
   "metadata": {},
   "outputs": [
    {
     "data": {
      "text/plain": [
       "App               0\n",
       "Category          0\n",
       "Rating            0\n",
       "Reviews           0\n",
       "Size              0\n",
       "Installs          0\n",
       "Type              0\n",
       "Price             0\n",
       "Content Rating    0\n",
       "Genres            0\n",
       "Last Updated      0\n",
       "Current Ver       0\n",
       "Android Ver       0\n",
       "dtype: int64"
      ]
     },
     "execution_count": 21,
     "metadata": {},
     "output_type": "execute_result"
    }
   ],
   "source": [
    "df.isnull().sum()"
   ]
  },
  {
   "cell_type": "code",
   "execution_count": 22,
   "id": "49cc6618",
   "metadata": {},
   "outputs": [],
   "source": [
    "# convert Price,Reviews and Ratings into Numerical Data\n",
    "df['Price']=df['Price'].apply(lambda x: str(x).replace('$','')if '$' in str(x) else str(x))\n",
    "df['Price']=df['Price'].apply(lambda x: float(x))\n",
    "df['Reviews']=pd.to_numeric(df['Reviews'],errors='coerce')"
   ]
  },
  {
   "cell_type": "code",
   "execution_count": 23,
   "id": "9e3d9b4a",
   "metadata": {},
   "outputs": [],
   "source": [
    "df['Installs']=df['Installs'].apply(lambda x: str(x).replace('+','')if '+' in str(x) else str(x))\n",
    "df['Installs']=df['Installs'].apply(lambda x: str(x).replace(',','')if ',' in str(x) else str(x))\n",
    "df['Installs']=df['Installs'].apply(lambda x: float(x))"
   ]
  },
  {
   "cell_type": "code",
   "execution_count": 24,
   "id": "9a08db86",
   "metadata": {},
   "outputs": [
    {
     "data": {
      "text/html": [
       "<div>\n",
       "<style scoped>\n",
       "    .dataframe tbody tr th:only-of-type {\n",
       "        vertical-align: middle;\n",
       "    }\n",
       "\n",
       "    .dataframe tbody tr th {\n",
       "        vertical-align: top;\n",
       "    }\n",
       "\n",
       "    .dataframe thead th {\n",
       "        text-align: right;\n",
       "    }\n",
       "</style>\n",
       "<table border=\"1\" class=\"dataframe\">\n",
       "  <thead>\n",
       "    <tr style=\"text-align: right;\">\n",
       "      <th></th>\n",
       "      <th>App</th>\n",
       "      <th>Category</th>\n",
       "      <th>Rating</th>\n",
       "      <th>Reviews</th>\n",
       "      <th>Size</th>\n",
       "      <th>Installs</th>\n",
       "      <th>Type</th>\n",
       "      <th>Price</th>\n",
       "      <th>Content Rating</th>\n",
       "      <th>Genres</th>\n",
       "      <th>Last Updated</th>\n",
       "      <th>Current Ver</th>\n",
       "      <th>Android Ver</th>\n",
       "    </tr>\n",
       "  </thead>\n",
       "  <tbody>\n",
       "    <tr>\n",
       "      <th>0</th>\n",
       "      <td>Photo Editor &amp; Candy Camera &amp; Grid &amp; ScrapBook</td>\n",
       "      <td>ART_AND_DESIGN</td>\n",
       "      <td>4.1</td>\n",
       "      <td>159</td>\n",
       "      <td>19M</td>\n",
       "      <td>10000.0</td>\n",
       "      <td>Free</td>\n",
       "      <td>0.0</td>\n",
       "      <td>Everyone</td>\n",
       "      <td>Art &amp; Design</td>\n",
       "      <td>January 7, 2018</td>\n",
       "      <td>1.0.0</td>\n",
       "      <td>4.0.3 and up</td>\n",
       "    </tr>\n",
       "    <tr>\n",
       "      <th>1</th>\n",
       "      <td>Coloring book moana</td>\n",
       "      <td>ART_AND_DESIGN</td>\n",
       "      <td>3.9</td>\n",
       "      <td>967</td>\n",
       "      <td>14M</td>\n",
       "      <td>500000.0</td>\n",
       "      <td>Free</td>\n",
       "      <td>0.0</td>\n",
       "      <td>Everyone</td>\n",
       "      <td>Art &amp; Design;Pretend Play</td>\n",
       "      <td>January 15, 2018</td>\n",
       "      <td>2.0.0</td>\n",
       "      <td>4.0.3 and up</td>\n",
       "    </tr>\n",
       "    <tr>\n",
       "      <th>2</th>\n",
       "      <td>U Launcher Lite – FREE Live Cool Themes, Hide ...</td>\n",
       "      <td>ART_AND_DESIGN</td>\n",
       "      <td>4.7</td>\n",
       "      <td>87510</td>\n",
       "      <td>8.7M</td>\n",
       "      <td>5000000.0</td>\n",
       "      <td>Free</td>\n",
       "      <td>0.0</td>\n",
       "      <td>Everyone</td>\n",
       "      <td>Art &amp; Design</td>\n",
       "      <td>August 1, 2018</td>\n",
       "      <td>1.2.4</td>\n",
       "      <td>4.0.3 and up</td>\n",
       "    </tr>\n",
       "    <tr>\n",
       "      <th>3</th>\n",
       "      <td>Sketch - Draw &amp; Paint</td>\n",
       "      <td>ART_AND_DESIGN</td>\n",
       "      <td>4.5</td>\n",
       "      <td>215644</td>\n",
       "      <td>25M</td>\n",
       "      <td>50000000.0</td>\n",
       "      <td>Free</td>\n",
       "      <td>0.0</td>\n",
       "      <td>Teen</td>\n",
       "      <td>Art &amp; Design</td>\n",
       "      <td>June 8, 2018</td>\n",
       "      <td>Varies with device</td>\n",
       "      <td>4.2 and up</td>\n",
       "    </tr>\n",
       "    <tr>\n",
       "      <th>4</th>\n",
       "      <td>Pixel Draw - Number Art Coloring Book</td>\n",
       "      <td>ART_AND_DESIGN</td>\n",
       "      <td>4.3</td>\n",
       "      <td>967</td>\n",
       "      <td>2.8M</td>\n",
       "      <td>100000.0</td>\n",
       "      <td>Free</td>\n",
       "      <td>0.0</td>\n",
       "      <td>Everyone</td>\n",
       "      <td>Art &amp; Design;Creativity</td>\n",
       "      <td>June 20, 2018</td>\n",
       "      <td>1.1</td>\n",
       "      <td>4.4 and up</td>\n",
       "    </tr>\n",
       "    <tr>\n",
       "      <th>5</th>\n",
       "      <td>Paper flowers instructions</td>\n",
       "      <td>ART_AND_DESIGN</td>\n",
       "      <td>4.4</td>\n",
       "      <td>167</td>\n",
       "      <td>5.6M</td>\n",
       "      <td>50000.0</td>\n",
       "      <td>Free</td>\n",
       "      <td>0.0</td>\n",
       "      <td>Everyone</td>\n",
       "      <td>Art &amp; Design</td>\n",
       "      <td>March 26, 2017</td>\n",
       "      <td>1</td>\n",
       "      <td>2.3 and up</td>\n",
       "    </tr>\n",
       "    <tr>\n",
       "      <th>6</th>\n",
       "      <td>Smoke Effect Photo Maker - Smoke Editor</td>\n",
       "      <td>ART_AND_DESIGN</td>\n",
       "      <td>3.8</td>\n",
       "      <td>178</td>\n",
       "      <td>19M</td>\n",
       "      <td>50000.0</td>\n",
       "      <td>Free</td>\n",
       "      <td>0.0</td>\n",
       "      <td>Everyone</td>\n",
       "      <td>Art &amp; Design</td>\n",
       "      <td>April 26, 2018</td>\n",
       "      <td>1.1</td>\n",
       "      <td>4.0.3 and up</td>\n",
       "    </tr>\n",
       "    <tr>\n",
       "      <th>7</th>\n",
       "      <td>Infinite Painter</td>\n",
       "      <td>ART_AND_DESIGN</td>\n",
       "      <td>4.1</td>\n",
       "      <td>36815</td>\n",
       "      <td>29M</td>\n",
       "      <td>1000000.0</td>\n",
       "      <td>Free</td>\n",
       "      <td>0.0</td>\n",
       "      <td>Everyone</td>\n",
       "      <td>Art &amp; Design</td>\n",
       "      <td>June 14, 2018</td>\n",
       "      <td>6.1.61.1</td>\n",
       "      <td>4.2 and up</td>\n",
       "    </tr>\n",
       "    <tr>\n",
       "      <th>8</th>\n",
       "      <td>Garden Coloring Book</td>\n",
       "      <td>ART_AND_DESIGN</td>\n",
       "      <td>4.4</td>\n",
       "      <td>13791</td>\n",
       "      <td>33M</td>\n",
       "      <td>1000000.0</td>\n",
       "      <td>Free</td>\n",
       "      <td>0.0</td>\n",
       "      <td>Everyone</td>\n",
       "      <td>Art &amp; Design</td>\n",
       "      <td>September 20, 2017</td>\n",
       "      <td>2.9.2</td>\n",
       "      <td>3.0 and up</td>\n",
       "    </tr>\n",
       "    <tr>\n",
       "      <th>9</th>\n",
       "      <td>Kids Paint Free - Drawing Fun</td>\n",
       "      <td>ART_AND_DESIGN</td>\n",
       "      <td>4.7</td>\n",
       "      <td>121</td>\n",
       "      <td>3.1M</td>\n",
       "      <td>10000.0</td>\n",
       "      <td>Free</td>\n",
       "      <td>0.0</td>\n",
       "      <td>Everyone</td>\n",
       "      <td>Art &amp; Design;Creativity</td>\n",
       "      <td>July 3, 2018</td>\n",
       "      <td>2.8</td>\n",
       "      <td>4.0.3 and up</td>\n",
       "    </tr>\n",
       "  </tbody>\n",
       "</table>\n",
       "</div>"
      ],
      "text/plain": [
       "                                                 App        Category  Rating  \\\n",
       "0     Photo Editor & Candy Camera & Grid & ScrapBook  ART_AND_DESIGN     4.1   \n",
       "1                                Coloring book moana  ART_AND_DESIGN     3.9   \n",
       "2  U Launcher Lite – FREE Live Cool Themes, Hide ...  ART_AND_DESIGN     4.7   \n",
       "3                              Sketch - Draw & Paint  ART_AND_DESIGN     4.5   \n",
       "4              Pixel Draw - Number Art Coloring Book  ART_AND_DESIGN     4.3   \n",
       "5                         Paper flowers instructions  ART_AND_DESIGN     4.4   \n",
       "6            Smoke Effect Photo Maker - Smoke Editor  ART_AND_DESIGN     3.8   \n",
       "7                                   Infinite Painter  ART_AND_DESIGN     4.1   \n",
       "8                               Garden Coloring Book  ART_AND_DESIGN     4.4   \n",
       "9                      Kids Paint Free - Drawing Fun  ART_AND_DESIGN     4.7   \n",
       "\n",
       "   Reviews  Size    Installs  Type  Price Content Rating  \\\n",
       "0      159   19M     10000.0  Free    0.0       Everyone   \n",
       "1      967   14M    500000.0  Free    0.0       Everyone   \n",
       "2    87510  8.7M   5000000.0  Free    0.0       Everyone   \n",
       "3   215644   25M  50000000.0  Free    0.0           Teen   \n",
       "4      967  2.8M    100000.0  Free    0.0       Everyone   \n",
       "5      167  5.6M     50000.0  Free    0.0       Everyone   \n",
       "6      178   19M     50000.0  Free    0.0       Everyone   \n",
       "7    36815   29M   1000000.0  Free    0.0       Everyone   \n",
       "8    13791   33M   1000000.0  Free    0.0       Everyone   \n",
       "9      121  3.1M     10000.0  Free    0.0       Everyone   \n",
       "\n",
       "                      Genres        Last Updated         Current Ver  \\\n",
       "0               Art & Design     January 7, 2018               1.0.0   \n",
       "1  Art & Design;Pretend Play    January 15, 2018               2.0.0   \n",
       "2               Art & Design      August 1, 2018               1.2.4   \n",
       "3               Art & Design        June 8, 2018  Varies with device   \n",
       "4    Art & Design;Creativity       June 20, 2018                 1.1   \n",
       "5               Art & Design      March 26, 2017                   1   \n",
       "6               Art & Design      April 26, 2018                 1.1   \n",
       "7               Art & Design       June 14, 2018            6.1.61.1   \n",
       "8               Art & Design  September 20, 2017               2.9.2   \n",
       "9    Art & Design;Creativity        July 3, 2018                 2.8   \n",
       "\n",
       "    Android Ver  \n",
       "0  4.0.3 and up  \n",
       "1  4.0.3 and up  \n",
       "2  4.0.3 and up  \n",
       "3    4.2 and up  \n",
       "4    4.4 and up  \n",
       "5    2.3 and up  \n",
       "6  4.0.3 and up  \n",
       "7    4.2 and up  \n",
       "8    3.0 and up  \n",
       "9  4.0.3 and up  "
      ]
     },
     "execution_count": 24,
     "metadata": {},
     "output_type": "execute_result"
    }
   ],
   "source": [
    "df.head(10)"
   ]
  },
  {
   "cell_type": "markdown",
   "id": "8b0d043c",
   "metadata": {},
   "source": [
    "## Data Visualization"
   ]
  },
  {
   "cell_type": "code",
   "execution_count": 25,
   "id": "033dd97d",
   "metadata": {},
   "outputs": [
    {
     "name": "stdout",
     "output_type": "stream",
     "text": [
      "Category\n",
      "ART_AND_DESIGN         4.355385\n",
      "AUTO_AND_VEHICLES      4.205882\n",
      "BEAUTY                 4.283019\n",
      "BOOKS_AND_REFERENCE    4.335498\n",
      "BUSINESS               4.182391\n",
      "COMICS                 4.160000\n",
      "COMMUNICATION          4.180103\n",
      "DATING                 4.025641\n",
      "EDUCATION              4.388462\n",
      "ENTERTAINMENT          4.126174\n",
      "EVENTS                 4.395313\n",
      "FAMILY                 4.204564\n",
      "FINANCE                4.151639\n",
      "FOOD_AND_DRINK         4.185827\n",
      "GAME                   4.286888\n",
      "HEALTH_AND_FITNESS     4.280059\n",
      "HOUSE_AND_HOME         4.211364\n",
      "LIBRARIES_AND_DEMO     4.207059\n",
      "LIFESTYLE              4.131414\n",
      "MAPS_AND_NAVIGATION    4.075182\n",
      "MEDICAL                4.216199\n",
      "NEWS_AND_MAGAZINES     4.161837\n",
      "PARENTING              4.300000\n",
      "PERSONALIZATION        4.328827\n",
      "PHOTOGRAPHY            4.197910\n",
      "PRODUCTIVITY           4.226651\n",
      "SHOPPING               4.263077\n",
      "SOCIAL                 4.261017\n",
      "SPORTS                 4.236458\n",
      "TOOLS                  4.080071\n",
      "TRAVEL_AND_LOCAL       4.132946\n",
      "VIDEO_PLAYERS          4.084000\n",
      "WEATHER                4.248780\n",
      "Name: Rating, dtype: float64\n",
      "\n",
      "\n",
      "Category\n",
      "ART_AND_DESIGN            5.97\n",
      "AUTO_AND_VEHICLES        13.47\n",
      "BEAUTY                    0.00\n",
      "BOOKS_AND_REFERENCE     119.77\n",
      "BUSINESS                185.27\n",
      "COMICS                    0.00\n",
      "COMMUNICATION            83.14\n",
      "DATING                   31.43\n",
      "EDUCATION                17.96\n",
      "ENTERTAINMENT             7.98\n",
      "EVENTS                  109.99\n",
      "FAMILY                 2434.78\n",
      "FINANCE                2900.83\n",
      "FOOD_AND_DRINK            8.48\n",
      "GAME                    287.30\n",
      "HEALTH_AND_FITNESS       67.34\n",
      "HOUSE_AND_HOME            0.00\n",
      "LIBRARIES_AND_DEMO        0.99\n",
      "LIFESTYLE              2360.87\n",
      "MAPS_AND_NAVIGATION      26.95\n",
      "MEDICAL                1439.96\n",
      "NEWS_AND_MAGAZINES        3.98\n",
      "PARENTING                 9.58\n",
      "PERSONALIZATION         153.96\n",
      "PHOTOGRAPHY             134.21\n",
      "PRODUCTIVITY            250.93\n",
      "SHOPPING                  5.48\n",
      "SOCIAL                   15.97\n",
      "SPORTS                  100.00\n",
      "TOOLS                   267.25\n",
      "TRAVEL_AND_LOCAL         49.95\n",
      "VIDEO_PLAYERS            10.46\n",
      "WEATHER                  32.42\n",
      "Name: Price, dtype: float64\n",
      "\n",
      "\n",
      "Category\n",
      "ART_AND_DESIGN         2.637600e+04\n",
      "AUTO_AND_VEHICLES      1.369019e+04\n",
      "BEAUTY                 7.476226e+03\n",
      "BOOKS_AND_REFERENCE    9.506090e+04\n",
      "BUSINESS               3.033598e+04\n",
      "COMICS                 5.638793e+04\n",
      "COMMUNICATION          2.107138e+06\n",
      "DATING                 3.115931e+04\n",
      "EDUCATION              2.538191e+05\n",
      "ENTERTAINMENT          3.971688e+05\n",
      "EVENTS                 2.515906e+03\n",
      "FAMILY                 2.080255e+05\n",
      "FINANCE                4.795281e+04\n",
      "FOOD_AND_DRINK         6.994748e+04\n",
      "GAME                   1.385859e+06\n",
      "HEALTH_AND_FITNESS     1.111253e+05\n",
      "HOUSE_AND_HOME         4.518619e+04\n",
      "LIBRARIES_AND_DEMO     1.220139e+04\n",
      "LIFESTYLE              3.372457e+04\n",
      "MAPS_AND_NAVIGATION    2.237902e+05\n",
      "MEDICAL                3.425432e+03\n",
      "NEWS_AND_MAGAZINES     1.922292e+05\n",
      "PARENTING              1.597218e+04\n",
      "PERSONALIZATION        2.279238e+05\n",
      "PHOTOGRAPHY            6.373631e+05\n",
      "PRODUCTIVITY           2.691438e+05\n",
      "SHOPPING               4.424662e+05\n",
      "SOCIAL                 2.105903e+06\n",
      "SPORTS                 1.844536e+05\n",
      "TOOLS                  3.240629e+05\n",
      "TRAVEL_AND_LOCAL       2.427051e+05\n",
      "VIDEO_PLAYERS          6.307439e+05\n",
      "WEATHER                1.781065e+05\n",
      "Name: Reviews, dtype: float64\n"
     ]
    }
   ],
   "source": [
    "# Grouping on the basis of categories\n",
    "grp=df.groupby('Category')\n",
    "x=grp['Rating'].agg(np.mean)\n",
    "y=grp['Price'].agg(np.sum)\n",
    "z=grp['Reviews'].agg(np.mean)\n",
    "print(x)\n",
    "print(\"\\n\")\n",
    "print(y)\n",
    "print(\"\\n\")\n",
    "print(z)"
   ]
  },
  {
   "cell_type": "code",
   "execution_count": 26,
   "id": "e442786d",
   "metadata": {},
   "outputs": [
    {
     "data": {
      "image/png": "[encoded data removed]",
      "text/plain": [
       "<Figure size 1152x360 with 1 Axes>"
      ]
     },
     "metadata": {
      "needs_background": "light"
     },
     "output_type": "display_data"
    }
   ],
   "source": [
    "plt.figure(figsize=(16,5))\n",
    "plt.plot(x,'ro',color='r')\n",
    "plt.xticks(rotation=90)\n",
    "plt.title('Category wise Rating')\n",
    "plt.xlabel('Categories-->')\n",
    "plt.ylabel('Rating-->')\n",
    "plt.show()"
   ]
  },
  {
   "cell_type": "code",
   "execution_count": 27,
   "id": "35eb776c",
   "metadata": {},
   "outputs": [
    {
     "data": {
      "image/png": "[encoded data removed]",
      "text/plain": [
       "<Figure size 1152x360 with 1 Axes>"
      ]
     },
     "metadata": {
      "needs_background": "light"
     },
     "output_type": "display_data"
    }
   ],
   "source": [
    "plt.figure(figsize=(16,5))\n",
    "plt.plot(y,'rd',color='g')\n",
    "plt.xticks(rotation=90)\n",
    "plt.title('Category wise Pricing')\n",
    "plt.xlabel('Categories->')\n",
    "plt.ylabel('Prices->')\n",
    "plt.show()"
   ]
  },
  {
   "cell_type": "code",
   "execution_count": 28,
   "id": "c59e0680",
   "metadata": {},
   "outputs": [
    {
     "data": {
      "image/png": "[encoded data removed]",
      "text/plain": [
       "<Figure size 1152x360 with 1 Axes>"
      ]
     },
     "metadata": {
      "needs_background": "light"
     },
     "output_type": "display_data"
    }
   ],
   "source": [
    "plt.figure(figsize=(16,5))\n",
    "plt.plot(z,'g^',color='b')\n",
    "plt.xticks(rotation=90)\n",
    "plt.title('Category wise Reviews')\n",
    "plt.xlabel('Categories->')\n",
    "plt.ylabel('Reviews->')\n",
    "plt.show()"
   ]
  },
  {
   "cell_type": "code",
   "execution_count": 29,
   "id": "4dd0ee76",
   "metadata": {},
   "outputs": [],
   "source": [
    "from pylab import rcParams\n",
    "import warnings\n",
    "warnings.filterwarnings('ignore')#I have filtered my warnings here\n"
   ]
  },
  {
   "cell_type": "markdown",
   "id": "d97c78c3",
   "metadata": {},
   "source": [
    "### Deep analysis and distributions"
   ]
  },
  {
   "cell_type": "code",
   "execution_count": 30,
   "id": "8046b75d",
   "metadata": {},
   "outputs": [
    {
     "data": {
      "text/plain": [
       "Text(0.5, 1.0, 'Number of Free Apps vs Paid Apps')"
      ]
     },
     "execution_count": 30,
     "metadata": {},
     "output_type": "execute_result"
    },
    {
     "data": {
      "image/png": "[encoded data removed]",
      "text/plain": [
       "<Figure size 720x504 with 1 Axes>"
      ]
     },
     "metadata": {
      "needs_background": "light"
     },
     "output_type": "display_data"
    }
   ],
   "source": [
    "rcParams['figure.figsize'] = 10,7\n",
    "type_plot = sns.countplot(x=\"Type\", data=df, palette = \"twilight\")\n",
    "type_plot.set_xticklabels(type_plot.get_xticklabels(), ha=\"right\")\n",
    "type_plot \n",
    "plt.title('Number of Free Apps vs Paid Apps',size = 20)"
   ]
  },
  {
   "cell_type": "code",
   "execution_count": 31,
   "id": "485ffb2a",
   "metadata": {},
   "outputs": [
    {
     "data": {
      "text/plain": [
       "Text(0.5, 1.0, 'Number of apps for every price')"
      ]
     },
     "execution_count": 31,
     "metadata": {},
     "output_type": "execute_result"
    },
    {
     "data": {
      "image/png": "[encoded data removed]",
      "text/plain": [
       "<Figure size 1080x504 with 1 Axes>"
      ]
     },
     "metadata": {
      "needs_background": "light"
     },
     "output_type": "display_data"
    }
   ],
   "source": [
    "df['Price(in $)'] = df['Price'].apply(lambda x: float(x))\n",
    "rcParams['figure.figsize'] = 15,7\n",
    "priced_apps=df[df['Price(in $)'] != 0.0]\n",
    "price_plot = sns.countplot(priced_apps['Price(in $)'], palette = \"inferno\")\n",
    "price_plot.set_xticklabels(price_plot.get_xticklabels(), rotation=90, ha=\"right\")\n",
    "price_plot \n",
    "plt.title('Number of apps for every price',size = 15)"
   ]
  },
  {
   "cell_type": "code",
   "execution_count": 32,
   "id": "f4a8786b",
   "metadata": {},
   "outputs": [
    {
     "data": {
      "text/plain": [
       "Text(0.5, 1.0, 'Installs count distribution')"
      ]
     },
     "execution_count": 32,
     "metadata": {},
     "output_type": "execute_result"
    },
    {
     "data": {
      "image/png": "[encoded data removed]",
      "text/plain": [
       "<Figure size 1080x504 with 1 Axes>"
      ]
     },
     "metadata": {
      "needs_background": "light"
     },
     "output_type": "display_data"
    }
   ],
   "source": [
    "rcParams['figure.figsize'] = 15,7\n",
    "install_plot = sns.countplot(y=\"Installs\",data=df, palette = \"PuBu\")\n",
    "install_plot.set_xticklabels(install_plot.get_xticklabels(), rotation=90, ha=\"right\")\n",
    "install_plot \n",
    "plt.title('Installs count distribution',size = 20)"
   ]
  },
  {
   "cell_type": "code",
   "execution_count": 33,
   "id": "82baaa34",
   "metadata": {},
   "outputs": [
    {
     "data": {
      "text/plain": [
       "Text(0.5, 1.0, 'Rating Distribution')"
      ]
     },
     "execution_count": 33,
     "metadata": {},
     "output_type": "execute_result"
    },
    {
     "data": {
      "image/png": "[encoded data removed]",
      "text/plain": [
       "<Figure size 1080x504 with 1 Axes>"
      ]
     },
     "metadata": {
      "needs_background": "light"
     },
     "output_type": "display_data"
    }
   ],
   "source": [
    "rcParams['figure.figsize'] = 15,7\n",
    "ratings_plot = sns.countplot(x=\"Rating\",data=df, palette = \"inferno\")\n",
    "ratings_plot.set_xticklabels(ratings_plot.get_xticklabels(), rotation=90, ha=\"right\")\n",
    "ratings_plot \n",
    "plt.title('Rating Distribution',size = 20)"
   ]
  },
  {
   "cell_type": "code",
   "execution_count": 34,
   "id": "2f7d81f6",
   "metadata": {},
   "outputs": [
    {
     "data": {
      "text/plain": [
       "Text(0.5, 1.0, 'Content Rating distribution')"
      ]
     },
     "execution_count": 34,
     "metadata": {},
     "output_type": "execute_result"
    },
    {
     "data": {
      "image/png": "[encoded data removed]",
      "text/plain": [
       "<Figure size 1080x504 with 1 Axes>"
      ]
     },
     "metadata": {
      "needs_background": "light"
     },
     "output_type": "display_data"
    }
   ],
   "source": [
    "rcParams['figure.figsize'] = 15,7\n",
    "content_plot = sns.countplot(x=\"Content Rating\",data=df, palette = \"pink\")\n",
    "content_plot.set_xticklabels(content_plot.get_xticklabels(), rotation=90, ha=\"right\")\n",
    "content_plot \n",
    "plt.title('Content Rating distribution',size = 20)"
   ]
  },
  {
   "cell_type": "code",
   "execution_count": 35,
   "id": "6b3ae3aa",
   "metadata": {},
   "outputs": [
    {
     "data": {
      "text/html": [
       "<div>\n",
       "<style scoped>\n",
       "    .dataframe tbody tr th:only-of-type {\n",
       "        vertical-align: middle;\n",
       "    }\n",
       "\n",
       "    .dataframe tbody tr th {\n",
       "        vertical-align: top;\n",
       "    }\n",
       "\n",
       "    .dataframe thead th {\n",
       "        text-align: right;\n",
       "    }\n",
       "</style>\n",
       "<table border=\"1\" class=\"dataframe\">\n",
       "  <thead>\n",
       "    <tr style=\"text-align: right;\">\n",
       "      <th></th>\n",
       "      <th>App</th>\n",
       "      <th>Installs</th>\n",
       "      <th>Category</th>\n",
       "      <th>Content Rating</th>\n",
       "      <th>Price(in $)</th>\n",
       "    </tr>\n",
       "  </thead>\n",
       "  <tbody>\n",
       "    <tr>\n",
       "      <th>0</th>\n",
       "      <td>Photo Editor &amp; Candy Camera &amp; Grid &amp; ScrapBook</td>\n",
       "      <td>10000</td>\n",
       "      <td>ART_AND_DESIGN</td>\n",
       "      <td>Everyone</td>\n",
       "      <td>0.0</td>\n",
       "    </tr>\n",
       "    <tr>\n",
       "      <th>1</th>\n",
       "      <td>Coloring book moana</td>\n",
       "      <td>500000</td>\n",
       "      <td>ART_AND_DESIGN</td>\n",
       "      <td>Everyone</td>\n",
       "      <td>0.0</td>\n",
       "    </tr>\n",
       "    <tr>\n",
       "      <th>2</th>\n",
       "      <td>U Launcher Lite – FREE Live Cool Themes, Hide ...</td>\n",
       "      <td>5000000</td>\n",
       "      <td>ART_AND_DESIGN</td>\n",
       "      <td>Everyone</td>\n",
       "      <td>0.0</td>\n",
       "    </tr>\n",
       "    <tr>\n",
       "      <th>3</th>\n",
       "      <td>Sketch - Draw &amp; Paint</td>\n",
       "      <td>50000000</td>\n",
       "      <td>ART_AND_DESIGN</td>\n",
       "      <td>Teen</td>\n",
       "      <td>0.0</td>\n",
       "    </tr>\n",
       "    <tr>\n",
       "      <th>4</th>\n",
       "      <td>Pixel Draw - Number Art Coloring Book</td>\n",
       "      <td>100000</td>\n",
       "      <td>ART_AND_DESIGN</td>\n",
       "      <td>Everyone</td>\n",
       "      <td>0.0</td>\n",
       "    </tr>\n",
       "  </tbody>\n",
       "</table>\n",
       "</div>"
      ],
      "text/plain": [
       "                                                 App  Installs  \\\n",
       "0     Photo Editor & Candy Camera & Grid & ScrapBook     10000   \n",
       "1                                Coloring book moana    500000   \n",
       "2  U Launcher Lite – FREE Live Cool Themes, Hide ...   5000000   \n",
       "3                              Sketch - Draw & Paint  50000000   \n",
       "4              Pixel Draw - Number Art Coloring Book    100000   \n",
       "\n",
       "         Category Content Rating  Price(in $)  \n",
       "0  ART_AND_DESIGN       Everyone          0.0  \n",
       "1  ART_AND_DESIGN       Everyone          0.0  \n",
       "2  ART_AND_DESIGN       Everyone          0.0  \n",
       "3  ART_AND_DESIGN           Teen          0.0  \n",
       "4  ART_AND_DESIGN       Everyone          0.0  "
      ]
     },
     "execution_count": 35,
     "metadata": {},
     "output_type": "execute_result"
    }
   ],
   "source": [
    "df= df.drop_duplicates(subset='App',keep='first')\n",
    "df['Installs'] = df['Installs'].apply(lambda x: int(x))\n",
    "df[['App','Installs','Category','Content Rating','Price(in $)']].head()"
   ]
  },
  {
   "cell_type": "code",
   "execution_count": 36,
   "id": "d24026bb",
   "metadata": {},
   "outputs": [
    {
     "data": {
      "text/html": [
       "<div>\n",
       "<style scoped>\n",
       "    .dataframe tbody tr th:only-of-type {\n",
       "        vertical-align: middle;\n",
       "    }\n",
       "\n",
       "    .dataframe tbody tr th {\n",
       "        vertical-align: top;\n",
       "    }\n",
       "\n",
       "    .dataframe thead th {\n",
       "        text-align: right;\n",
       "    }\n",
       "</style>\n",
       "<table border=\"1\" class=\"dataframe\">\n",
       "  <thead>\n",
       "    <tr style=\"text-align: right;\">\n",
       "      <th></th>\n",
       "      <th>App</th>\n",
       "      <th>Installs</th>\n",
       "      <th>Category</th>\n",
       "      <th>Content Rating</th>\n",
       "      <th>Price(in $)</th>\n",
       "      <th>Reviews</th>\n",
       "      <th>Genres</th>\n",
       "    </tr>\n",
       "  </thead>\n",
       "  <tbody>\n",
       "    <tr>\n",
       "      <th>152</th>\n",
       "      <td>Google Play Books</td>\n",
       "      <td>1000000000</td>\n",
       "      <td>BOOKS_AND_REFERENCE</td>\n",
       "      <td>Teen</td>\n",
       "      <td>0.0</td>\n",
       "      <td>1433233</td>\n",
       "      <td>Books &amp; Reference</td>\n",
       "    </tr>\n",
       "    <tr>\n",
       "      <th>3665</th>\n",
       "      <td>YouTube</td>\n",
       "      <td>1000000000</td>\n",
       "      <td>VIDEO_PLAYERS</td>\n",
       "      <td>Teen</td>\n",
       "      <td>0.0</td>\n",
       "      <td>25655305</td>\n",
       "      <td>Video Players &amp; Editors</td>\n",
       "    </tr>\n",
       "    <tr>\n",
       "      <th>3454</th>\n",
       "      <td>Google Drive</td>\n",
       "      <td>1000000000</td>\n",
       "      <td>PRODUCTIVITY</td>\n",
       "      <td>Everyone</td>\n",
       "      <td>0.0</td>\n",
       "      <td>2731171</td>\n",
       "      <td>Productivity</td>\n",
       "    </tr>\n",
       "    <tr>\n",
       "      <th>3234</th>\n",
       "      <td>Google</td>\n",
       "      <td>1000000000</td>\n",
       "      <td>TOOLS</td>\n",
       "      <td>Everyone</td>\n",
       "      <td>0.0</td>\n",
       "      <td>8033493</td>\n",
       "      <td>Tools</td>\n",
       "    </tr>\n",
       "    <tr>\n",
       "      <th>3127</th>\n",
       "      <td>Google Street View</td>\n",
       "      <td>1000000000</td>\n",
       "      <td>TRAVEL_AND_LOCAL</td>\n",
       "      <td>Everyone</td>\n",
       "      <td>0.0</td>\n",
       "      <td>2129689</td>\n",
       "      <td>Travel &amp; Local</td>\n",
       "    </tr>\n",
       "    <tr>\n",
       "      <th>3117</th>\n",
       "      <td>Maps - Navigate &amp; Explore</td>\n",
       "      <td>1000000000</td>\n",
       "      <td>TRAVEL_AND_LOCAL</td>\n",
       "      <td>Everyone</td>\n",
       "      <td>0.0</td>\n",
       "      <td>9235155</td>\n",
       "      <td>Travel &amp; Local</td>\n",
       "    </tr>\n",
       "    <tr>\n",
       "      <th>2808</th>\n",
       "      <td>Google Photos</td>\n",
       "      <td>1000000000</td>\n",
       "      <td>PHOTOGRAPHY</td>\n",
       "      <td>Everyone</td>\n",
       "      <td>0.0</td>\n",
       "      <td>10858556</td>\n",
       "      <td>Photography</td>\n",
       "    </tr>\n",
       "    <tr>\n",
       "      <th>2554</th>\n",
       "      <td>Google+</td>\n",
       "      <td>1000000000</td>\n",
       "      <td>SOCIAL</td>\n",
       "      <td>Teen</td>\n",
       "      <td>0.0</td>\n",
       "      <td>4831125</td>\n",
       "      <td>Social</td>\n",
       "    </tr>\n",
       "    <tr>\n",
       "      <th>2545</th>\n",
       "      <td>Instagram</td>\n",
       "      <td>1000000000</td>\n",
       "      <td>SOCIAL</td>\n",
       "      <td>Teen</td>\n",
       "      <td>0.0</td>\n",
       "      <td>66577313</td>\n",
       "      <td>Social</td>\n",
       "    </tr>\n",
       "    <tr>\n",
       "      <th>2544</th>\n",
       "      <td>Facebook</td>\n",
       "      <td>1000000000</td>\n",
       "      <td>SOCIAL</td>\n",
       "      <td>Teen</td>\n",
       "      <td>0.0</td>\n",
       "      <td>78158306</td>\n",
       "      <td>Social</td>\n",
       "    </tr>\n",
       "    <tr>\n",
       "      <th>1654</th>\n",
       "      <td>Subway Surfers</td>\n",
       "      <td>1000000000</td>\n",
       "      <td>GAME</td>\n",
       "      <td>Everyone 10+</td>\n",
       "      <td>0.0</td>\n",
       "      <td>27722264</td>\n",
       "      <td>Arcade</td>\n",
       "    </tr>\n",
       "    <tr>\n",
       "      <th>865</th>\n",
       "      <td>Google Play Games</td>\n",
       "      <td>1000000000</td>\n",
       "      <td>ENTERTAINMENT</td>\n",
       "      <td>Teen</td>\n",
       "      <td>0.0</td>\n",
       "      <td>7165362</td>\n",
       "      <td>Entertainment</td>\n",
       "    </tr>\n",
       "    <tr>\n",
       "      <th>391</th>\n",
       "      <td>Skype - free IM &amp; video calls</td>\n",
       "      <td>1000000000</td>\n",
       "      <td>COMMUNICATION</td>\n",
       "      <td>Everyone</td>\n",
       "      <td>0.0</td>\n",
       "      <td>10484169</td>\n",
       "      <td>Communication</td>\n",
       "    </tr>\n",
       "    <tr>\n",
       "      <th>341</th>\n",
       "      <td>Hangouts</td>\n",
       "      <td>1000000000</td>\n",
       "      <td>COMMUNICATION</td>\n",
       "      <td>Everyone</td>\n",
       "      <td>0.0</td>\n",
       "      <td>3419249</td>\n",
       "      <td>Communication</td>\n",
       "    </tr>\n",
       "    <tr>\n",
       "      <th>340</th>\n",
       "      <td>Gmail</td>\n",
       "      <td>1000000000</td>\n",
       "      <td>COMMUNICATION</td>\n",
       "      <td>Everyone</td>\n",
       "      <td>0.0</td>\n",
       "      <td>4604324</td>\n",
       "      <td>Communication</td>\n",
       "    </tr>\n",
       "    <tr>\n",
       "      <th>338</th>\n",
       "      <td>Google Chrome: Fast &amp; Secure</td>\n",
       "      <td>1000000000</td>\n",
       "      <td>COMMUNICATION</td>\n",
       "      <td>Everyone</td>\n",
       "      <td>0.0</td>\n",
       "      <td>9642995</td>\n",
       "      <td>Communication</td>\n",
       "    </tr>\n",
       "    <tr>\n",
       "      <th>336</th>\n",
       "      <td>WhatsApp Messenger</td>\n",
       "      <td>1000000000</td>\n",
       "      <td>COMMUNICATION</td>\n",
       "      <td>Everyone</td>\n",
       "      <td>0.0</td>\n",
       "      <td>69119316</td>\n",
       "      <td>Communication</td>\n",
       "    </tr>\n",
       "    <tr>\n",
       "      <th>335</th>\n",
       "      <td>Messenger – Text and Video Chat for Free</td>\n",
       "      <td>1000000000</td>\n",
       "      <td>COMMUNICATION</td>\n",
       "      <td>Everyone</td>\n",
       "      <td>0.0</td>\n",
       "      <td>56642847</td>\n",
       "      <td>Communication</td>\n",
       "    </tr>\n",
       "    <tr>\n",
       "      <th>3687</th>\n",
       "      <td>Google Play Movies &amp; TV</td>\n",
       "      <td>1000000000</td>\n",
       "      <td>VIDEO_PLAYERS</td>\n",
       "      <td>Teen</td>\n",
       "      <td>0.0</td>\n",
       "      <td>906384</td>\n",
       "      <td>Video Players &amp; Editors</td>\n",
       "    </tr>\n",
       "    <tr>\n",
       "      <th>3736</th>\n",
       "      <td>Google News</td>\n",
       "      <td>1000000000</td>\n",
       "      <td>NEWS_AND_MAGAZINES</td>\n",
       "      <td>Teen</td>\n",
       "      <td>0.0</td>\n",
       "      <td>877635</td>\n",
       "      <td>News &amp; Magazines</td>\n",
       "    </tr>\n",
       "  </tbody>\n",
       "</table>\n",
       "</div>"
      ],
      "text/plain": [
       "                                           App    Installs  \\\n",
       "152                          Google Play Books  1000000000   \n",
       "3665                                   YouTube  1000000000   \n",
       "3454                              Google Drive  1000000000   \n",
       "3234                                    Google  1000000000   \n",
       "3127                        Google Street View  1000000000   \n",
       "3117                 Maps - Navigate & Explore  1000000000   \n",
       "2808                             Google Photos  1000000000   \n",
       "2554                                   Google+  1000000000   \n",
       "2545                                 Instagram  1000000000   \n",
       "2544                                  Facebook  1000000000   \n",
       "1654                            Subway Surfers  1000000000   \n",
       "865                          Google Play Games  1000000000   \n",
       "391              Skype - free IM & video calls  1000000000   \n",
       "341                                   Hangouts  1000000000   \n",
       "340                                      Gmail  1000000000   \n",
       "338               Google Chrome: Fast & Secure  1000000000   \n",
       "336                         WhatsApp Messenger  1000000000   \n",
       "335   Messenger – Text and Video Chat for Free  1000000000   \n",
       "3687                   Google Play Movies & TV  1000000000   \n",
       "3736                               Google News  1000000000   \n",
       "\n",
       "                 Category Content Rating  Price(in $)   Reviews  \\\n",
       "152   BOOKS_AND_REFERENCE           Teen          0.0   1433233   \n",
       "3665        VIDEO_PLAYERS           Teen          0.0  25655305   \n",
       "3454         PRODUCTIVITY       Everyone          0.0   2731171   \n",
       "3234                TOOLS       Everyone          0.0   8033493   \n",
       "3127     TRAVEL_AND_LOCAL       Everyone          0.0   2129689   \n",
       "3117     TRAVEL_AND_LOCAL       Everyone          0.0   9235155   \n",
       "2808          PHOTOGRAPHY       Everyone          0.0  10858556   \n",
       "2554               SOCIAL           Teen          0.0   4831125   \n",
       "2545               SOCIAL           Teen          0.0  66577313   \n",
       "2544               SOCIAL           Teen          0.0  78158306   \n",
       "1654                 GAME   Everyone 10+          0.0  27722264   \n",
       "865         ENTERTAINMENT           Teen          0.0   7165362   \n",
       "391         COMMUNICATION       Everyone          0.0  10484169   \n",
       "341         COMMUNICATION       Everyone          0.0   3419249   \n",
       "340         COMMUNICATION       Everyone          0.0   4604324   \n",
       "338         COMMUNICATION       Everyone          0.0   9642995   \n",
       "336         COMMUNICATION       Everyone          0.0  69119316   \n",
       "335         COMMUNICATION       Everyone          0.0  56642847   \n",
       "3687        VIDEO_PLAYERS           Teen          0.0    906384   \n",
       "3736   NEWS_AND_MAGAZINES           Teen          0.0    877635   \n",
       "\n",
       "                       Genres  \n",
       "152         Books & Reference  \n",
       "3665  Video Players & Editors  \n",
       "3454             Productivity  \n",
       "3234                    Tools  \n",
       "3127           Travel & Local  \n",
       "3117           Travel & Local  \n",
       "2808              Photography  \n",
       "2554                   Social  \n",
       "2545                   Social  \n",
       "2544                   Social  \n",
       "1654                   Arcade  \n",
       "865             Entertainment  \n",
       "391             Communication  \n",
       "341             Communication  \n",
       "340             Communication  \n",
       "338             Communication  \n",
       "336             Communication  \n",
       "335             Communication  \n",
       "3687  Video Players & Editors  \n",
       "3736         News & Magazines  "
      ]
     },
     "execution_count": 36,
     "metadata": {},
     "output_type": "execute_result"
    }
   ],
   "source": [
    "newdf=df[['App','Installs','Category','Content Rating','Price(in $)','Reviews','Genres']].groupby(['Installs'], sort = True)\n",
    "newdf=newdf.filter(lambda x: x['Installs'].mean() >= 1000000000)\n",
    "newdf=newdf.sort_values(by=['Installs'])\n",
    "newdf"
   ]
  },
  {
   "cell_type": "code",
   "execution_count": 37,
   "id": "a93d4859",
   "metadata": {},
   "outputs": [
    {
     "data": {
      "text/plain": [
       "Text(0.5, 1.0, 'Top Categories for Free Apps')"
      ]
     },
     "execution_count": 37,
     "metadata": {},
     "output_type": "execute_result"
    },
    {
     "data": {
      "image/png": "[encoded data removed]",
      "text/plain": [
       "<Figure size 1080x504 with 1 Axes>"
      ]
     },
     "metadata": {
      "needs_background": "light"
     },
     "output_type": "display_data"
    }
   ],
   "source": [
    "rcParams['figure.figsize'] = 15,7\n",
    "free_categories = sns.countplot(x=\"Category\",data=newdf, palette = \"bone\")\n",
    "free_categories.set_xticklabels(free_categories.get_xticklabels(), rotation=90, ha=\"right\")\n",
    "free_categories \n",
    "plt.title('Top Categories for Free Apps',size = 20)"
   ]
  },
  {
   "cell_type": "code",
   "execution_count": 38,
   "id": "dfa97e08",
   "metadata": {},
   "outputs": [
    {
     "data": {
      "text/plain": [
       "Text(0.5, 1.0, 'Top Genres for Free Apps')"
      ]
     },
     "execution_count": 38,
     "metadata": {},
     "output_type": "execute_result"
    },
    {
     "data": {
      "image/png": "[encoded data removed]",
      "text/plain": [
       "<Figure size 1080x504 with 1 Axes>"
      ]
     },
     "metadata": {
      "needs_background": "light"
     },
     "output_type": "display_data"
    }
   ],
   "source": [
    "rcParams['figure.figsize'] = 15,7\n",
    "free_genres = sns.countplot(y=\"Genres\",data=newdf, palette = \"spring\")\n",
    "free_genres.set_xticklabels(free_genres.get_xticklabels(), rotation=90, ha=\"right\")\n",
    "free_genres \n",
    "plt.title('Top Genres for Free Apps',size = 20)"
   ]
  },
  {
   "cell_type": "markdown",
   "id": "26416eb1",
   "metadata": {},
   "source": [
    "### Top categories for paid apps"
   ]
  },
  {
   "cell_type": "code",
   "execution_count": 39,
   "id": "8f249e1c",
   "metadata": {},
   "outputs": [
    {
     "data": {
      "text/html": [
       "<div>\n",
       "<style scoped>\n",
       "    .dataframe tbody tr th:only-of-type {\n",
       "        vertical-align: middle;\n",
       "    }\n",
       "\n",
       "    .dataframe tbody tr th {\n",
       "        vertical-align: top;\n",
       "    }\n",
       "\n",
       "    .dataframe thead th {\n",
       "        text-align: right;\n",
       "    }\n",
       "</style>\n",
       "<table border=\"1\" class=\"dataframe\">\n",
       "  <thead>\n",
       "    <tr style=\"text-align: right;\">\n",
       "      <th></th>\n",
       "      <th>App</th>\n",
       "      <th>Category</th>\n",
       "      <th>Content Rating</th>\n",
       "      <th>Price(in $)</th>\n",
       "      <th>Reviews</th>\n",
       "      <th>Installs</th>\n",
       "      <th>Genres</th>\n",
       "    </tr>\n",
       "  </thead>\n",
       "  <tbody>\n",
       "    <tr>\n",
       "      <th>0</th>\n",
       "      <td>Cut the Rope GOLD</td>\n",
       "      <td>FAMILY</td>\n",
       "      <td>Everyone</td>\n",
       "      <td>0.99</td>\n",
       "      <td>61264</td>\n",
       "      <td>1000000</td>\n",
       "      <td>Puzzle</td>\n",
       "    </tr>\n",
       "    <tr>\n",
       "      <th>1</th>\n",
       "      <td>Hitman Sniper</td>\n",
       "      <td>GAME</td>\n",
       "      <td>Mature 17+</td>\n",
       "      <td>0.99</td>\n",
       "      <td>408292</td>\n",
       "      <td>10000000</td>\n",
       "      <td>Action</td>\n",
       "    </tr>\n",
       "    <tr>\n",
       "      <th>2</th>\n",
       "      <td>HD Widgets</td>\n",
       "      <td>PERSONALIZATION</td>\n",
       "      <td>Everyone</td>\n",
       "      <td>0.99</td>\n",
       "      <td>58617</td>\n",
       "      <td>1000000</td>\n",
       "      <td>Personalization</td>\n",
       "    </tr>\n",
       "    <tr>\n",
       "      <th>3</th>\n",
       "      <td>Infinity Dungeon VIP</td>\n",
       "      <td>FAMILY</td>\n",
       "      <td>Everyone 10+</td>\n",
       "      <td>0.99</td>\n",
       "      <td>21804</td>\n",
       "      <td>1000000</td>\n",
       "      <td>Role Playing</td>\n",
       "    </tr>\n",
       "    <tr>\n",
       "      <th>4</th>\n",
       "      <td>Fruit Ninja Classic</td>\n",
       "      <td>GAME</td>\n",
       "      <td>Everyone</td>\n",
       "      <td>0.99</td>\n",
       "      <td>85468</td>\n",
       "      <td>1000000</td>\n",
       "      <td>Arcade</td>\n",
       "    </tr>\n",
       "    <tr>\n",
       "      <th>5</th>\n",
       "      <td>Zombie Avengers:(Dreamsky)Stickman War Z</td>\n",
       "      <td>GAME</td>\n",
       "      <td>Teen</td>\n",
       "      <td>0.99</td>\n",
       "      <td>13604</td>\n",
       "      <td>1000000</td>\n",
       "      <td>Action</td>\n",
       "    </tr>\n",
       "    <tr>\n",
       "      <th>6</th>\n",
       "      <td>League of Stickman 2018- Ninja Arena PVP(Dream...</td>\n",
       "      <td>GAME</td>\n",
       "      <td>Teen</td>\n",
       "      <td>0.99</td>\n",
       "      <td>32496</td>\n",
       "      <td>1000000</td>\n",
       "      <td>Action</td>\n",
       "    </tr>\n",
       "    <tr>\n",
       "      <th>7</th>\n",
       "      <td>Lost Journey (Dreamsky)</td>\n",
       "      <td>GAME</td>\n",
       "      <td>Everyone</td>\n",
       "      <td>0.99</td>\n",
       "      <td>32344</td>\n",
       "      <td>1000000</td>\n",
       "      <td>Adventure</td>\n",
       "    </tr>\n",
       "    <tr>\n",
       "      <th>8</th>\n",
       "      <td>Stickman Legends: Shadow Wars</td>\n",
       "      <td>GAME</td>\n",
       "      <td>Everyone 10+</td>\n",
       "      <td>0.99</td>\n",
       "      <td>38419</td>\n",
       "      <td>1000000</td>\n",
       "      <td>Action</td>\n",
       "    </tr>\n",
       "    <tr>\n",
       "      <th>9</th>\n",
       "      <td>Where's My Water?</td>\n",
       "      <td>FAMILY</td>\n",
       "      <td>Everyone</td>\n",
       "      <td>1.99</td>\n",
       "      <td>188740</td>\n",
       "      <td>1000000</td>\n",
       "      <td>Puzzle;Brain Games</td>\n",
       "    </tr>\n",
       "    <tr>\n",
       "      <th>10</th>\n",
       "      <td>True Skate</td>\n",
       "      <td>SPORTS</td>\n",
       "      <td>Everyone</td>\n",
       "      <td>1.99</td>\n",
       "      <td>129409</td>\n",
       "      <td>1000000</td>\n",
       "      <td>Sports</td>\n",
       "    </tr>\n",
       "    <tr>\n",
       "      <th>11</th>\n",
       "      <td>Beautiful Widgets Pro</td>\n",
       "      <td>PERSONALIZATION</td>\n",
       "      <td>Everyone</td>\n",
       "      <td>2.49</td>\n",
       "      <td>97890</td>\n",
       "      <td>1000000</td>\n",
       "      <td>Personalization</td>\n",
       "    </tr>\n",
       "    <tr>\n",
       "      <th>12</th>\n",
       "      <td>Threema</td>\n",
       "      <td>COMMUNICATION</td>\n",
       "      <td>Everyone</td>\n",
       "      <td>2.99</td>\n",
       "      <td>51110</td>\n",
       "      <td>1000000</td>\n",
       "      <td>Communication</td>\n",
       "    </tr>\n",
       "    <tr>\n",
       "      <th>13</th>\n",
       "      <td>Tasker</td>\n",
       "      <td>TOOLS</td>\n",
       "      <td>Everyone</td>\n",
       "      <td>2.99</td>\n",
       "      <td>43045</td>\n",
       "      <td>1000000</td>\n",
       "      <td>Tools</td>\n",
       "    </tr>\n",
       "    <tr>\n",
       "      <th>14</th>\n",
       "      <td>Card Wars - Adventure Time</td>\n",
       "      <td>FAMILY</td>\n",
       "      <td>Everyone 10+</td>\n",
       "      <td>2.99</td>\n",
       "      <td>129603</td>\n",
       "      <td>1000000</td>\n",
       "      <td>Card;Action &amp; Adventure</td>\n",
       "    </tr>\n",
       "    <tr>\n",
       "      <th>15</th>\n",
       "      <td>Bloons TD 5</td>\n",
       "      <td>FAMILY</td>\n",
       "      <td>Everyone</td>\n",
       "      <td>2.99</td>\n",
       "      <td>190086</td>\n",
       "      <td>1000000</td>\n",
       "      <td>Strategy</td>\n",
       "    </tr>\n",
       "    <tr>\n",
       "      <th>16</th>\n",
       "      <td>Five Nights at Freddy's</td>\n",
       "      <td>GAME</td>\n",
       "      <td>Teen</td>\n",
       "      <td>2.99</td>\n",
       "      <td>100805</td>\n",
       "      <td>1000000</td>\n",
       "      <td>Action</td>\n",
       "    </tr>\n",
       "    <tr>\n",
       "      <th>17</th>\n",
       "      <td>DraStic DS Emulator</td>\n",
       "      <td>GAME</td>\n",
       "      <td>Everyone</td>\n",
       "      <td>4.99</td>\n",
       "      <td>87766</td>\n",
       "      <td>1000000</td>\n",
       "      <td>Action</td>\n",
       "    </tr>\n",
       "    <tr>\n",
       "      <th>18</th>\n",
       "      <td>Facetune - For Free</td>\n",
       "      <td>PHOTOGRAPHY</td>\n",
       "      <td>Everyone</td>\n",
       "      <td>5.99</td>\n",
       "      <td>49553</td>\n",
       "      <td>1000000</td>\n",
       "      <td>Photography</td>\n",
       "    </tr>\n",
       "    <tr>\n",
       "      <th>19</th>\n",
       "      <td>Sleep as Android Unlock</td>\n",
       "      <td>LIFESTYLE</td>\n",
       "      <td>Everyone</td>\n",
       "      <td>5.99</td>\n",
       "      <td>23966</td>\n",
       "      <td>1000000</td>\n",
       "      <td>Lifestyle</td>\n",
       "    </tr>\n",
       "    <tr>\n",
       "      <th>20</th>\n",
       "      <td>Grand Theft Auto: San Andreas</td>\n",
       "      <td>GAME</td>\n",
       "      <td>Mature 17+</td>\n",
       "      <td>6.99</td>\n",
       "      <td>348962</td>\n",
       "      <td>1000000</td>\n",
       "      <td>Action</td>\n",
       "    </tr>\n",
       "    <tr>\n",
       "      <th>21</th>\n",
       "      <td>Minecraft</td>\n",
       "      <td>FAMILY</td>\n",
       "      <td>Everyone 10+</td>\n",
       "      <td>6.99</td>\n",
       "      <td>2376564</td>\n",
       "      <td>10000000</td>\n",
       "      <td>Arcade;Action &amp; Adventure</td>\n",
       "    </tr>\n",
       "  </tbody>\n",
       "</table>\n",
       "</div>"
      ],
      "text/plain": [
       "                                                  App         Category  \\\n",
       "0                                   Cut the Rope GOLD           FAMILY   \n",
       "1                                       Hitman Sniper             GAME   \n",
       "2                                          HD Widgets  PERSONALIZATION   \n",
       "3                                Infinity Dungeon VIP           FAMILY   \n",
       "4                                 Fruit Ninja Classic             GAME   \n",
       "5            Zombie Avengers:(Dreamsky)Stickman War Z             GAME   \n",
       "6   League of Stickman 2018- Ninja Arena PVP(Dream...             GAME   \n",
       "7                             Lost Journey (Dreamsky)             GAME   \n",
       "8                       Stickman Legends: Shadow Wars             GAME   \n",
       "9                                   Where's My Water?           FAMILY   \n",
       "10                                         True Skate           SPORTS   \n",
       "11                              Beautiful Widgets Pro  PERSONALIZATION   \n",
       "12                                            Threema    COMMUNICATION   \n",
       "13                                             Tasker            TOOLS   \n",
       "14                         Card Wars - Adventure Time           FAMILY   \n",
       "15                                        Bloons TD 5           FAMILY   \n",
       "16                            Five Nights at Freddy's             GAME   \n",
       "17                                DraStic DS Emulator             GAME   \n",
       "18                                Facetune - For Free      PHOTOGRAPHY   \n",
       "19                            Sleep as Android Unlock        LIFESTYLE   \n",
       "20                      Grand Theft Auto: San Andreas             GAME   \n",
       "21                                          Minecraft           FAMILY   \n",
       "\n",
       "   Content Rating  Price(in $)  Reviews  Installs                     Genres  \n",
       "0        Everyone         0.99    61264   1000000                     Puzzle  \n",
       "1      Mature 17+         0.99   408292  10000000                     Action  \n",
       "2        Everyone         0.99    58617   1000000            Personalization  \n",
       "3    Everyone 10+         0.99    21804   1000000               Role Playing  \n",
       "4        Everyone         0.99    85468   1000000                     Arcade  \n",
       "5            Teen         0.99    13604   1000000                     Action  \n",
       "6            Teen         0.99    32496   1000000                     Action  \n",
       "7        Everyone         0.99    32344   1000000                  Adventure  \n",
       "8    Everyone 10+         0.99    38419   1000000                     Action  \n",
       "9        Everyone         1.99   188740   1000000         Puzzle;Brain Games  \n",
       "10       Everyone         1.99   129409   1000000                     Sports  \n",
       "11       Everyone         2.49    97890   1000000            Personalization  \n",
       "12       Everyone         2.99    51110   1000000              Communication  \n",
       "13       Everyone         2.99    43045   1000000                      Tools  \n",
       "14   Everyone 10+         2.99   129603   1000000    Card;Action & Adventure  \n",
       "15       Everyone         2.99   190086   1000000                   Strategy  \n",
       "16           Teen         2.99   100805   1000000                     Action  \n",
       "17       Everyone         4.99    87766   1000000                     Action  \n",
       "18       Everyone         5.99    49553   1000000                Photography  \n",
       "19       Everyone         5.99    23966   1000000                  Lifestyle  \n",
       "20     Mature 17+         6.99   348962   1000000                     Action  \n",
       "21   Everyone 10+         6.99  2376564  10000000  Arcade;Action & Adventure  "
      ]
     },
     "execution_count": 39,
     "metadata": {},
     "output_type": "execute_result"
    }
   ],
   "source": [
    "new=df[['App','Category','Content Rating','Price(in $)','Reviews']].groupby(['Price(in $)'], sort = True)\n",
    "new=new.filter(lambda x: x['Price(in $)'].mean() != 0)\n",
    "new=new.sort_values(by=['Price(in $)'])\n",
    "new\n",
    "newdf2=df[['App','Installs','Genres']].groupby(['Installs'], sort = True)\n",
    "newdf2=newdf2.filter(lambda x: x['Installs'].mean() >= 1000000)\n",
    "newdf2=newdf2.sort_values(by=['Installs'])\n",
    "newdf2\n",
    "\n",
    "s1 = pd.merge(new, newdf2, how='inner', on=['App'])\n",
    "s1"
   ]
  },
  {
   "cell_type": "code",
   "execution_count": 40,
   "id": "e55af169",
   "metadata": {},
   "outputs": [
    {
     "data": {
      "text/plain": [
       "Text(0.5, 1.0, 'Top Categories for PAID APPS')"
      ]
     },
     "execution_count": 40,
     "metadata": {},
     "output_type": "execute_result"
    },
    {
     "data": {
      "image/png": "[encoded data removed]",
      "text/plain": [
       "<Figure size 1080x504 with 1 Axes>"
      ]
     },
     "metadata": {
      "needs_background": "light"
     },
     "output_type": "display_data"
    }
   ],
   "source": [
    "rcParams['figure.figsize'] = 15,7\n",
    "paid_categories = sns.countplot(x=\"Category\",data=s1, palette = \"bone\")\n",
    "paid_categories.set_xticklabels(paid_categories.get_xticklabels(), rotation=90, ha=\"right\")\n",
    "paid_categories \n",
    "plt.title('Top Categories for PAID APPS',size = 20)"
   ]
  },
  {
   "cell_type": "code",
   "execution_count": 41,
   "id": "aaaba7c2",
   "metadata": {},
   "outputs": [
    {
     "data": {
      "text/plain": [
       "Text(0.5, 1.0, 'Top Genres for PAID APPS')"
      ]
     },
     "execution_count": 41,
     "metadata": {},
     "output_type": "execute_result"
    },
    {
     "data": {
      "image/png": "[encoded data removed]",
      "text/plain": [
       "<Figure size 1080x504 with 1 Axes>"
      ]
     },
     "metadata": {
      "needs_background": "light"
     },
     "output_type": "display_data"
    }
   ],
   "source": [
    "rcParams['figure.figsize'] = 15,7\n",
    "paid_genres = sns.countplot(y=\"Genres\",data=s1, palette = \"spring\")\n",
    "paid_genres.set_xticklabels(paid_genres.get_xticklabels(), rotation=90, ha=\"right\")\n",
    "paid_genres \n",
    "plt.title('Top Genres for PAID APPS',size = 20)"
   ]
  },
  {
   "cell_type": "markdown",
   "id": "319aa767",
   "metadata": {},
   "source": [
    "### System version"
   ]
  },
  {
   "cell_type": "code",
   "execution_count": 42,
   "id": "00e28024",
   "metadata": {},
   "outputs": [],
   "source": [
    "df['new'] = pd.to_datetime(df['Last Updated'])\n",
    "df.drop(labels = ['Last Updated'], axis = 1, inplace = True)\n",
    "df.rename(columns={'new': 'Last Updated'}, inplace=True)"
   ]
  },
  {
   "cell_type": "code",
   "execution_count": 43,
   "id": "5257f9ed",
   "metadata": {},
   "outputs": [
    {
     "data": {
      "text/plain": [
       "Text(0.5, 1.0, 'Time series plot of Last Updates')"
      ]
     },
     "execution_count": 43,
     "metadata": {},
     "output_type": "execute_result"
    },
    {
     "data": {
      "image/png": "[encoded data removed]",
      "text/plain": [
       "<Figure size 1080x504 with 1 Axes>"
      ]
     },
     "metadata": {
      "needs_background": "light"
     },
     "output_type": "display_data"
    }
   ],
   "source": [
    "freq= pd.Series()# Making a series here\n",
    "freq=df['Last Updated'].value_counts()\n",
    "newfreq=freq[freq>50]\n",
    "newfreq.plot()\n",
    "plt.xlabel(\"Dates\")\n",
    "plt.ylabel(\"Number of updates\")\n",
    "plt.title(\"Time series plot of Last Updates\")"
   ]
  },
  {
   "cell_type": "markdown",
   "id": "16b9340c",
   "metadata": {},
   "source": [
    "### Final Plots"
   ]
  },
  {
   "cell_type": "code",
   "execution_count": 44,
   "id": "b590a65b",
   "metadata": {},
   "outputs": [
    {
     "data": {
      "text/html": [
       "<div>\n",
       "<style scoped>\n",
       "    .dataframe tbody tr th:only-of-type {\n",
       "        vertical-align: middle;\n",
       "    }\n",
       "\n",
       "    .dataframe tbody tr th {\n",
       "        vertical-align: top;\n",
       "    }\n",
       "\n",
       "    .dataframe thead th {\n",
       "        text-align: right;\n",
       "    }\n",
       "</style>\n",
       "<table border=\"1\" class=\"dataframe\">\n",
       "  <thead>\n",
       "    <tr style=\"text-align: right;\">\n",
       "      <th></th>\n",
       "      <th>App</th>\n",
       "      <th>Reviews</th>\n",
       "      <th>Rating</th>\n",
       "      <th>Category</th>\n",
       "      <th>Content Rating</th>\n",
       "      <th>Installs</th>\n",
       "    </tr>\n",
       "  </thead>\n",
       "  <tbody>\n",
       "    <tr>\n",
       "      <th>0</th>\n",
       "      <td>Calculator - free calculator, multi calculator...</td>\n",
       "      <td>25592</td>\n",
       "      <td>4.6</td>\n",
       "      <td>TOOLS</td>\n",
       "      <td>Everyone</td>\n",
       "      <td>10000000</td>\n",
       "    </tr>\n",
       "    <tr>\n",
       "      <th>1</th>\n",
       "      <td>ASUS SuperNote</td>\n",
       "      <td>26559</td>\n",
       "      <td>4.5</td>\n",
       "      <td>PRODUCTIVITY</td>\n",
       "      <td>Everyone</td>\n",
       "      <td>10000000</td>\n",
       "    </tr>\n",
       "    <tr>\n",
       "      <th>2</th>\n",
       "      <td>ASUS Sound Recorder</td>\n",
       "      <td>34126</td>\n",
       "      <td>4.5</td>\n",
       "      <td>TOOLS</td>\n",
       "      <td>Everyone</td>\n",
       "      <td>10000000</td>\n",
       "    </tr>\n",
       "    <tr>\n",
       "      <th>3</th>\n",
       "      <td>ABC Kids - Tracing &amp; Phonics</td>\n",
       "      <td>36606</td>\n",
       "      <td>4.5</td>\n",
       "      <td>FAMILY</td>\n",
       "      <td>Everyone</td>\n",
       "      <td>10000000</td>\n",
       "    </tr>\n",
       "    <tr>\n",
       "      <th>4</th>\n",
       "      <td>Bounce Classic</td>\n",
       "      <td>38297</td>\n",
       "      <td>4.5</td>\n",
       "      <td>GAME</td>\n",
       "      <td>Everyone</td>\n",
       "      <td>10000000</td>\n",
       "    </tr>\n",
       "    <tr>\n",
       "      <th>...</th>\n",
       "      <td>...</td>\n",
       "      <td>...</td>\n",
       "      <td>...</td>\n",
       "      <td>...</td>\n",
       "      <td>...</td>\n",
       "      <td>...</td>\n",
       "    </tr>\n",
       "    <tr>\n",
       "      <th>449</th>\n",
       "      <td>Security Master - Antivirus, VPN, AppLock, Boo...</td>\n",
       "      <td>24900999</td>\n",
       "      <td>4.7</td>\n",
       "      <td>TOOLS</td>\n",
       "      <td>Everyone</td>\n",
       "      <td>500000000</td>\n",
       "    </tr>\n",
       "    <tr>\n",
       "      <th>450</th>\n",
       "      <td>Subway Surfers</td>\n",
       "      <td>27722264</td>\n",
       "      <td>4.5</td>\n",
       "      <td>GAME</td>\n",
       "      <td>Everyone 10+</td>\n",
       "      <td>1000000000</td>\n",
       "    </tr>\n",
       "    <tr>\n",
       "      <th>451</th>\n",
       "      <td>Clean Master- Space Cleaner &amp; Antivirus</td>\n",
       "      <td>42916526</td>\n",
       "      <td>4.7</td>\n",
       "      <td>TOOLS</td>\n",
       "      <td>Everyone</td>\n",
       "      <td>500000000</td>\n",
       "    </tr>\n",
       "    <tr>\n",
       "      <th>452</th>\n",
       "      <td>Clash of Clans</td>\n",
       "      <td>44891723</td>\n",
       "      <td>4.6</td>\n",
       "      <td>GAME</td>\n",
       "      <td>Everyone 10+</td>\n",
       "      <td>100000000</td>\n",
       "    </tr>\n",
       "    <tr>\n",
       "      <th>453</th>\n",
       "      <td>Instagram</td>\n",
       "      <td>66577313</td>\n",
       "      <td>4.5</td>\n",
       "      <td>SOCIAL</td>\n",
       "      <td>Teen</td>\n",
       "      <td>1000000000</td>\n",
       "    </tr>\n",
       "  </tbody>\n",
       "</table>\n",
       "<p>454 rows × 6 columns</p>\n",
       "</div>"
      ],
      "text/plain": [
       "                                                   App   Reviews  Rating  \\\n",
       "0    Calculator - free calculator, multi calculator...     25592     4.6   \n",
       "1                                       ASUS SuperNote     26559     4.5   \n",
       "2                                  ASUS Sound Recorder     34126     4.5   \n",
       "3                         ABC Kids - Tracing & Phonics     36606     4.5   \n",
       "4                                       Bounce Classic     38297     4.5   \n",
       "..                                                 ...       ...     ...   \n",
       "449  Security Master - Antivirus, VPN, AppLock, Boo...  24900999     4.7   \n",
       "450                                     Subway Surfers  27722264     4.5   \n",
       "451            Clean Master- Space Cleaner & Antivirus  42916526     4.7   \n",
       "452                                     Clash of Clans  44891723     4.6   \n",
       "453                                          Instagram  66577313     4.5   \n",
       "\n",
       "         Category Content Rating    Installs  \n",
       "0           TOOLS       Everyone    10000000  \n",
       "1    PRODUCTIVITY       Everyone    10000000  \n",
       "2           TOOLS       Everyone    10000000  \n",
       "3          FAMILY       Everyone    10000000  \n",
       "4            GAME       Everyone    10000000  \n",
       "..            ...            ...         ...  \n",
       "449         TOOLS       Everyone   500000000  \n",
       "450          GAME   Everyone 10+  1000000000  \n",
       "451         TOOLS       Everyone   500000000  \n",
       "452          GAME   Everyone 10+   100000000  \n",
       "453        SOCIAL           Teen  1000000000  \n",
       "\n",
       "[454 rows x 6 columns]"
      ]
     },
     "execution_count": 44,
     "metadata": {},
     "output_type": "execute_result"
    }
   ],
   "source": [
    "df['Rating'] = df['Rating'].apply(lambda x: float(x))\n",
    "df['Reviews'] = df['Reviews'].apply(lambda x: int(x))\n",
    "\n",
    "newdf_rate=df[['App','Rating','Category','Content Rating']].groupby(['Rating'], sort = True)\n",
    "newdf_rate=newdf_rate.filter(lambda x: x['Rating'].mean() >= 4.5)\n",
    "newdf_rate=newdf_rate.sort_values(by=['Rating'])\n",
    "\n",
    "newdf_reviews=df[['App','Reviews']].groupby(['Reviews'], sort = True)\n",
    "newdf_reviews=newdf_reviews.filter(lambda x: x['Reviews'].mean() >= 25000)\n",
    "newdf_reviews=newdf_reviews.sort_values(by=['Reviews'])\n",
    "\n",
    "newdf_installs=df[['App','Installs']].groupby(['Installs'], sort = True)\n",
    "newdf_installs=newdf_installs.filter(lambda x: x['Installs'].mean() >= 10000000)\n",
    "newdf_installs=newdf_installs.sort_values(by=['Installs'])\n",
    "\n",
    "s1 = pd.merge(newdf_reviews, newdf_rate, how='inner', on=['App'])\n",
    "s2 = pd.merge(s1, newdf_installs, how='inner', on=['App'])\n",
    "s2"
   ]
  },
  {
   "cell_type": "code",
   "execution_count": 45,
   "id": "b5d2d031",
   "metadata": {},
   "outputs": [
    {
     "data": {
      "text/html": [
       "<div>\n",
       "<style scoped>\n",
       "    .dataframe tbody tr th:only-of-type {\n",
       "        vertical-align: middle;\n",
       "    }\n",
       "\n",
       "    .dataframe tbody tr th {\n",
       "        vertical-align: top;\n",
       "    }\n",
       "\n",
       "    .dataframe thead th {\n",
       "        text-align: right;\n",
       "    }\n",
       "</style>\n",
       "<table border=\"1\" class=\"dataframe\">\n",
       "  <thead>\n",
       "    <tr style=\"text-align: right;\">\n",
       "      <th></th>\n",
       "      <th>App</th>\n",
       "      <th>Reviews</th>\n",
       "      <th>Rating</th>\n",
       "      <th>Installs</th>\n",
       "      <th>Category</th>\n",
       "    </tr>\n",
       "  </thead>\n",
       "  <tbody>\n",
       "    <tr>\n",
       "      <th>152</th>\n",
       "      <td>Google Play Books</td>\n",
       "      <td>1433233</td>\n",
       "      <td>3.9</td>\n",
       "      <td>1000000000</td>\n",
       "      <td>BOOKS_AND_REFERENCE</td>\n",
       "    </tr>\n",
       "    <tr>\n",
       "      <th>335</th>\n",
       "      <td>Messenger – Text and Video Chat for Free</td>\n",
       "      <td>56642847</td>\n",
       "      <td>4.0</td>\n",
       "      <td>1000000000</td>\n",
       "      <td>COMMUNICATION</td>\n",
       "    </tr>\n",
       "    <tr>\n",
       "      <th>336</th>\n",
       "      <td>WhatsApp Messenger</td>\n",
       "      <td>69119316</td>\n",
       "      <td>4.4</td>\n",
       "      <td>1000000000</td>\n",
       "      <td>COMMUNICATION</td>\n",
       "    </tr>\n",
       "    <tr>\n",
       "      <th>338</th>\n",
       "      <td>Google Chrome: Fast &amp; Secure</td>\n",
       "      <td>9642995</td>\n",
       "      <td>4.3</td>\n",
       "      <td>1000000000</td>\n",
       "      <td>COMMUNICATION</td>\n",
       "    </tr>\n",
       "    <tr>\n",
       "      <th>340</th>\n",
       "      <td>Gmail</td>\n",
       "      <td>4604324</td>\n",
       "      <td>4.3</td>\n",
       "      <td>1000000000</td>\n",
       "      <td>COMMUNICATION</td>\n",
       "    </tr>\n",
       "  </tbody>\n",
       "</table>\n",
       "</div>"
      ],
      "text/plain": [
       "                                          App   Reviews  Rating    Installs  \\\n",
       "152                         Google Play Books   1433233     3.9  1000000000   \n",
       "335  Messenger – Text and Video Chat for Free  56642847     4.0  1000000000   \n",
       "336                        WhatsApp Messenger  69119316     4.4  1000000000   \n",
       "338              Google Chrome: Fast & Secure   9642995     4.3  1000000000   \n",
       "340                                     Gmail   4604324     4.3  1000000000   \n",
       "\n",
       "                Category  \n",
       "152  BOOKS_AND_REFERENCE  \n",
       "335        COMMUNICATION  \n",
       "336        COMMUNICATION  \n",
       "338        COMMUNICATION  \n",
       "340        COMMUNICATION  "
      ]
     },
     "execution_count": 45,
     "metadata": {},
     "output_type": "execute_result"
    }
   ],
   "source": [
    "df2=df[['App','Reviews','Rating','Installs','Category']][df.Installs==df['Installs'].max()]\n",
    "df2.head()"
   ]
  },
  {
   "cell_type": "code",
   "execution_count": 46,
   "id": "ab9b2773",
   "metadata": {},
   "outputs": [
    {
     "data": {
      "text/plain": [
       "Text(0.5, 1.0, 'CATEGORIES OF MOST INSTALLED APPS')"
      ]
     },
     "execution_count": 46,
     "metadata": {},
     "output_type": "execute_result"
    },
    {
     "data": {
      "image/png": "[encoded data removed]",
      "text/plain": [
       "<Figure size 1080x504 with 1 Axes>"
      ]
     },
     "metadata": {
      "needs_background": "light"
     },
     "output_type": "display_data"
    }
   ],
   "source": [
    "rcParams['figure.figsize'] = 15,7\n",
    "top_installs=sns.countplot(y=\"Category\",data=df2,palette = \"Set3\")\n",
    "top_installs.set_xticklabels(top_installs.get_xticklabels(), rotation=90, ha=\"right\")\n",
    "top_installs\n",
    "plt.title('CATEGORIES OF MOST INSTALLED APPS',size = 20)"
   ]
  },
  {
   "cell_type": "code",
   "execution_count": 47,
   "id": "3be28661",
   "metadata": {},
   "outputs": [
    {
     "data": {
      "text/plain": [
       "Text(0.5, 1.0, 'CATEGORIES OF MOST LIKEABLE APPS ON THE ANDROID APP STORE')"
      ]
     },
     "execution_count": 47,
     "metadata": {},
     "output_type": "execute_result"
    },
    {
     "data": {
      "image/png": "[encoded data removed]",
      "text/plain": [
       "<Figure size 1080x504 with 1 Axes>"
      ]
     },
     "metadata": {
      "needs_background": "light"
     },
     "output_type": "display_data"
    }
   ],
   "source": [
    "rcParams['figure.figsize'] = 15,7\n",
    "likeable_apps = sns.countplot(y=\"Category\",data=s2, palette = \"Set3\")\n",
    "likeable_apps.set_xticklabels(likeable_apps.get_xticklabels(), rotation=90, ha=\"right\")\n",
    "likeable_apps \n",
    "plt.title('CATEGORIES OF MOST LIKEABLE APPS ON THE ANDROID APP STORE',size = 20)"
   ]
  },
  {
   "cell_type": "markdown",
   "id": "27213705",
   "metadata": {},
   "source": [
    "## Summary and overall analysis :\n"
   ]
  },
  {
   "cell_type": "markdown",
   "id": "296828e7",
   "metadata": {},
   "source": [
    "###### Procedure followed"
   ]
  },
  {
   "cell_type": "markdown",
   "id": "b844a7fe",
   "metadata": {},
   "source": [
    "### Initial steps -\n",
    "* Collecting the dataset using pandas\n",
    "* Drawing box plots and histogram with initial data"
   ]
  },
  {
   "cell_type": "markdown",
   "id": "9f0c67a8",
   "metadata": {},
   "source": [
    "### Data Imputation and Manipulation \n",
    "* Check null values\n",
    "* Convert Price,Reviews and Ratings into Numerical Data\n"
   ]
  },
  {
   "cell_type": "markdown",
   "id": "ad019fb7",
   "metadata": {},
   "source": [
    "### Data Visualization\n",
    "* Split data into category-wise Pricing,Data & Reviews\n",
    "* Plot category-wise Pricing,Data & Reviews\n"
   ]
  },
  {
   "cell_type": "markdown",
   "id": "b7e839be",
   "metadata": {},
   "source": [
    "### Deep analysis and distributions\n",
    "* Free vs paid apps count\n",
    "* App price plots\n",
    "\n",
    "**Distribution plots made -**\n",
    "* Installs Count\n",
    "* App Rating\n",
    "* Content-age Rating\n",
    "\n",
    "**Additional bar plots used -**\n",
    "\n",
    "* Top categories for free apps\n",
    "* Top genres for free apps\n",
    "* Top categories for paid apps\n",
    "* Top genres for paid apps"
   ]
  },
  {
   "cell_type": "markdown",
   "id": "30e07b37",
   "metadata": {},
   "source": [
    "### System Version\n",
    "* Plotting system version line plots"
   ]
  },
  {
   "cell_type": "markdown",
   "id": "cf38a2a9",
   "metadata": {},
   "source": [
    "### Final Plots\n",
    " Here we have plotted categories of most likeable apps on android store plot,where we have classified on basis of -\n",
    " * Rating >=4.5\n",
    " * Reviews >=25000\n",
    " * Number of installs >=10M\n",
    " \n",
    " and plotted accordingly on app-category vs the number of apps in each category.\n",
    " We have also plotted solely based on basis of top installed app categories."
   ]
  },
  {
   "cell_type": "markdown",
   "id": "e073485e",
   "metadata": {},
   "source": [
    "# Summary\n",
    "\n",
    "1) Gaming top the list with most reviews,best ratings and most installations\n",
    "\n",
    "2) Solely based on installs,we get may not get the whole view, as seen by only plotting most installed apps by categories,where communication takes the lead\n",
    "\n",
    "3) The general trend shows gaming as most reviewed and installed category\n",
    "\n",
    "4) Most of the apps were updated between July 15th,2018 and August 1st,2018\n",
    "\n",
    "5) **Communication** was the most popular genre & category for downloading of free apps\n",
    "\n",
    "6) **Game** was the most popular category & **Action** was the top genre\n",
    "\n",
    "7) **Free** apps exist more in count than **Paid** apps\n",
    "\n",
    "8) **Social** category apps' have most reviews\n",
    "\n",
    "8) **Finance** category has most expensive paid apps\n",
    "\n",
    "9) **Events** category has most high rated apps"
   ]
  },
  {
   "cell_type": "code",
   "execution_count": null,
   "id": "b39280ee",
   "metadata": {},
   "outputs": [],
   "source": []
  }
 ],
 "metadata": {
  "kernelspec": {
   "display_name": "Python 3",
   "language": "python",
   "name": "python3"
  },
  "language_info": {
   "codemirror_mode": {
    "name": "ipython",
    "version": 3
   },
   "file_extension": ".py",
   "mimetype": "text/x-python",
   "name": "python",
   "nbconvert_exporter": "python",
   "pygments_lexer": "ipython3",
   "version": "3.8.8"
  }
 },
 "nbformat": 4,
 "nbformat_minor": 5
}
